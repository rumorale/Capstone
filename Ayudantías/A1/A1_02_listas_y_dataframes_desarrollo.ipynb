{
  "nbformat": 4,
  "nbformat_minor": 0,
  "metadata": {
    "colab": {
      "name": "A1_02_listas_y_dataframes.ipynb",
      "provenance": [],
      "collapsed_sections": [],
      "include_colab_link": true
    },
    "kernelspec": {
      "display_name": "R",
      "name": "ir"
    }
  },
  "cells": [
    {
      "cell_type": "markdown",
      "metadata": {
        "id": "view-in-github",
        "colab_type": "text"
      },
      "source": [
        "<a href=\"https://colab.research.google.com/github/rumorale/Capstone/blob/master/Ayudant%C3%ADas/A1/A1_02_listas_y_dataframes_desarrollo.ipynb\" target=\"_parent\"><img src=\"https://colab.research.google.com/assets/colab-badge.svg\" alt=\"Open In Colab\"/></a>"
      ]
    },
    {
      "cell_type": "markdown",
      "metadata": {
        "collapsed": true,
        "id": "fgQ2azLwTpRn"
      },
      "source": [
        "# **Ayudantía 1**\n",
        "\n",
        "**Ayudante:** Rodrigo Morales Méndez<br>\n",
        "**E-mail ayudante:** rumorale1@gmail.com\n",
        "\n",
        "\n",
        "\n",
        "# **2 Listas y Dataframes**\n",
        "\n",
        "## **2.1 Listas**\n",
        "\n",
        "Hasta aquí contamos con dos tipos de objetos para almacenar datos; vectores y matrices. Sin embargo, en ambos casos se tiene la limitante de que no es posible combinar distintos tipos de datos en diferentes entradas. Un objeto que permite una mayor flexibilidad son las listas. En R, una lista es básicamente un arreglo unidimensional, donde en cada entrada es posible almacenar distintos **objetos** (los cuales a su vez pueden almacenar distintos tipos de datos (u otros objetos).\n",
        "En resumen,\n",
        "\n",
        "   * ¿Qué son?<br>\n",
        "    Arreglos unidimensionales que guardan distintos tipos de datos u objetos.<br>\n",
        "\n",
        "   * ¿Cómo se declaran?<br>\n",
        "    Se pueden declarar mediante el comando list() o combinando listas existentes. <br>\n",
        "    \n",
        "   * ¿Cómo se accede a sus elementos?<br>\n",
        "    Usando el **operador [ ]** (retorna lista), o bien usando **[ [ ] ]** (retorna el objeto) - \"squarebrackets\". \n",
        "\n",
        "    En cada caso se puede indicar la posición o nombre del objeto que se quiere rescatar.<br>\n",
        "    \n",
        "    Otra manera es mediante el símbolo $ seguido del nombre del objeto.\n",
        "\n"
      ]
    },
    {
      "cell_type": "code",
      "metadata": {
        "id": "_iwOQA-xTzww"
      },
      "source": [
        "\n",
        "lista <- list(\n",
        "vector_num =  1:10,\n",
        "vector_chr = LETTERS[1:10],\n",
        "matriz = matrix(1:8, 2,4),\n",
        "sublista = list( x1 = 1:5,\n",
        "                 x2 = letters[1:4])\n",
        ")\n",
        "\n",
        "#lista <- list(\n",
        "# 1:10,\n",
        "# LETTERS[1:10],\n",
        "## matrix(1:8, 2,4),\n",
        "# list( x1 = 1:5,\n",
        "#                 x2 = letters[1:4])\n",
        "#)\n",
        "\n",
        "\n"
      ],
      "execution_count": 37,
      "outputs": []
    },
    {
      "cell_type": "code",
      "metadata": {
        "id": "dP0doaUSxAR4",
        "outputId": "b622bb24-7f4c-4f93-f6fb-743e517b0407",
        "colab": {
          "base_uri": "https://localhost:8080/",
          "height": 35
        }
      },
      "source": [
        "# Obtenemos la clase del objeto\n",
        "class(lista)\n",
        "\n",
        "# save( lista,  file = \"lista.rdata\")"
      ],
      "execution_count": 16,
      "outputs": [
        {
          "output_type": "display_data",
          "data": {
            "text/plain": [
              "[1] \"list\""
            ],
            "text/latex": "'list'",
            "text/markdown": "'list'",
            "text/html": [
              "'list'"
            ]
          },
          "metadata": {}
        }
      ]
    },
    {
      "cell_type": "code",
      "metadata": {
        "id": "9E8K8_Q3w8xq"
      },
      "source": [
        "# para saber el largo de la lista/vector\n",
        "length(lista)"
      ],
      "execution_count": null,
      "outputs": []
    },
    {
      "cell_type": "code",
      "metadata": {
        "id": "zaCjxWeJwpWm",
        "outputId": "7b72ce3b-6e25-42f3-8b46-e125119a2413",
        "colab": {
          "base_uri": "https://localhost:8080/",
          "height": 35
        }
      },
      "source": [
        "# Para obtener los nombres de la lista\n",
        "names(lista)"
      ],
      "execution_count": 19,
      "outputs": [
        {
          "output_type": "display_data",
          "data": {
            "text/plain": [
              "NULL"
            ]
          },
          "metadata": {}
        }
      ]
    },
    {
      "cell_type": "code",
      "metadata": {
        "id": "GBuxGL4cTpR0"
      },
      "source": [
        "# Podemos combinar listas\n",
        "lista2 <- list(\n",
        "  primos = c(2,3,5,7),\n",
        "  amigos = c(220,284)\n",
        ")\n"
      ],
      "execution_count": null,
      "outputs": []
    },
    {
      "cell_type": "markdown",
      "metadata": {
        "id": "tas7VspWb85k"
      },
      "source": [
        "### **Acceso a los elementos de una lista**\n",
        "\n",
        "Al igual que un vector, una lista es un arreglo unidimensional, por lo que es esperable que herede la misma forma de acceso.\n",
        "\n",
        "#### **Acceso mediante posición**\n",
        "\n",
        "En R, para acceder al \"slot\" de una lista, podemos utilizar `[]` indicando la posición a la que queremos acceder. Notar que en R distingue el uso de `[]` y `[[]]`. Para ilustrar este comportamiento, consideremosla lista \"lista3\", donde se observa que `lista3[2]` retorna una lista, mientras que `lista3[[2]]` retorna el character \"A\"\n",
        "\n",
        "\n",
        "\n",
        "\n",
        "\n",
        "\n"
      ]
    },
    {
      "cell_type": "code",
      "metadata": {
        "id": "uUv7BQfnTpR3"
      },
      "source": [
        "# Acceso mediante posición. NOTA: Diferenciar entre eacceso con [] y con [[]]\n"
      ],
      "execution_count": null,
      "outputs": []
    },
    {
      "cell_type": "code",
      "metadata": {
        "id": "VbjSMdZJeCIp"
      },
      "source": [
        "# Podemos combinar lo que hemos aprendido, por ejemplo, en el 4to slot hay una matriz y queremos obtener la 3ra fila #:= 0 0 8 0\n"
      ],
      "execution_count": null,
      "outputs": []
    },
    {
      "cell_type": "markdown",
      "metadata": {
        "id": "aOsI7ZZDeYHP"
      },
      "source": [
        "#### **Acceso mediante nombre**\n",
        "\n",
        "Cuando una lista posee nombres, podemos acceder a sus elementos referenciando su nombre, distinguiendo, al igual que por posición, el uso de `[]` y `[[]]`\n"
      ]
    },
    {
      "cell_type": "code",
      "metadata": {
        "id": "nztoSVwy1ASF",
        "outputId": "e747d6fb-7282-4201-e174-19de6e17a394",
        "colab": {
          "base_uri": "https://localhost:8080/",
          "height": 52
        }
      },
      "source": [
        "# Acceso mediante nombre. NOTA: Diferenciar entre eacceso con [] y con [[]]\n",
        "\n",
        "#class(lista[1]) \n",
        "\n",
        "#lista[[1]]\n",
        "\n",
        "lista$vector_num\n",
        "lista[[\"vector_num\"]]\n",
        "\n",
        "\n"
      ],
      "execution_count": 38,
      "outputs": [
        {
          "output_type": "display_data",
          "data": {
            "text/plain": [
              " [1]  1  2  3  4  5  6  7  8  9 10"
            ],
            "text/latex": "\\begin{enumerate*}\n\\item 1\n\\item 2\n\\item 3\n\\item 4\n\\item 5\n\\item 6\n\\item 7\n\\item 8\n\\item 9\n\\item 10\n\\end{enumerate*}\n",
            "text/markdown": "1. 1\n2. 2\n3. 3\n4. 4\n5. 5\n6. 6\n7. 7\n8. 8\n9. 9\n10. 10\n\n\n",
            "text/html": [
              "<style>\n",
              ".list-inline {list-style: none; margin:0; padding: 0}\n",
              ".list-inline>li {display: inline-block}\n",
              ".list-inline>li:not(:last-child)::after {content: \"\\00b7\"; padding: 0 .5ex}\n",
              "</style>\n",
              "<ol class=list-inline><li>1</li><li>2</li><li>3</li><li>4</li><li>5</li><li>6</li><li>7</li><li>8</li><li>9</li><li>10</li></ol>\n"
            ]
          },
          "metadata": {}
        },
        {
          "output_type": "display_data",
          "data": {
            "text/plain": [
              " [1]  1  2  3  4  5  6  7  8  9 10"
            ],
            "text/latex": "\\begin{enumerate*}\n\\item 1\n\\item 2\n\\item 3\n\\item 4\n\\item 5\n\\item 6\n\\item 7\n\\item 8\n\\item 9\n\\item 10\n\\end{enumerate*}\n",
            "text/markdown": "1. 1\n2. 2\n3. 3\n4. 4\n5. 5\n6. 6\n7. 7\n8. 8\n9. 9\n10. 10\n\n\n",
            "text/html": [
              "<style>\n",
              ".list-inline {list-style: none; margin:0; padding: 0}\n",
              ".list-inline>li {display: inline-block}\n",
              ".list-inline>li:not(:last-child)::after {content: \"\\00b7\"; padding: 0 .5ex}\n",
              "</style>\n",
              "<ol class=list-inline><li>1</li><li>2</li><li>3</li><li>4</li><li>5</li><li>6</li><li>7</li><li>8</li><li>9</li><li>10</li></ol>\n"
            ]
          },
          "metadata": {}
        }
      ]
    },
    {
      "cell_type": "markdown",
      "metadata": {
        "id": "smOXxvCmg7vv"
      },
      "source": [
        "#### **Acceso mediante \"$\"**\n",
        "\n",
        "Finalmente, una de las opciones más simples para acceder a los elementos de una lista cuando sus entradas poseen nombre, es referenciando estos objetos anteponiendo el signo \"$\".Por ejemplo, para acceder al 4to slot, con la matriz, podemos escribir `lista3$matriz`, lo cual nos retorna directamente la matriz (no una lista con la matriz)."
      ]
    },
    {
      "cell_type": "code",
      "metadata": {
        "id": "nWG3D5US1oFW",
        "outputId": "5aa180b2-c708-4c40-b80b-ddffb70c6ecc",
        "colab": {
          "base_uri": "https://localhost:8080/",
          "height": 131
        }
      },
      "source": [
        "# Ejemplo con lista\n",
        "\n",
        "lista$matriz\n",
        "lista$sublista$x1  "
      ],
      "execution_count": 39,
      "outputs": [
        {
          "output_type": "display_data",
          "data": {
            "text/plain": [
              "     [,1] [,2] [,3] [,4]\n",
              "[1,] 1    3    5    7   \n",
              "[2,] 2    4    6    8   "
            ],
            "text/latex": "A matrix: 2 × 4 of type int\n\\begin{tabular}{llll}\n\t 1 & 3 & 5 & 7\\\\\n\t 2 & 4 & 6 & 8\\\\\n\\end{tabular}\n",
            "text/markdown": "\nA matrix: 2 × 4 of type int\n\n| 1 | 3 | 5 | 7 |\n| 2 | 4 | 6 | 8 |\n\n",
            "text/html": [
              "<table class=\"dataframe\">\n",
              "<caption>A matrix: 2 × 4 of type int</caption>\n",
              "<tbody>\n",
              "\t<tr><td>1</td><td>3</td><td>5</td><td>7</td></tr>\n",
              "\t<tr><td>2</td><td>4</td><td>6</td><td>8</td></tr>\n",
              "</tbody>\n",
              "</table>\n"
            ]
          },
          "metadata": {}
        },
        {
          "output_type": "display_data",
          "data": {
            "text/plain": [
              "[1] 1 2 3 4 5"
            ],
            "text/latex": "\\begin{enumerate*}\n\\item 1\n\\item 2\n\\item 3\n\\item 4\n\\item 5\n\\end{enumerate*}\n",
            "text/markdown": "1. 1\n2. 2\n3. 3\n4. 4\n5. 5\n\n\n",
            "text/html": [
              "<style>\n",
              ".list-inline {list-style: none; margin:0; padding: 0}\n",
              ".list-inline>li {display: inline-block}\n",
              ".list-inline>li:not(:last-child)::after {content: \"\\00b7\"; padding: 0 .5ex}\n",
              "</style>\n",
              "<ol class=list-inline><li>1</li><li>2</li><li>3</li><li>4</li><li>5</li></ol>\n"
            ]
          },
          "metadata": {}
        }
      ]
    },
    {
      "cell_type": "markdown",
      "metadata": {
        "id": "yMWAiONTiSTq"
      },
      "source": [
        "### **Creación de nuevo slots**\n",
        "\n",
        "Podemos crear nuevos slots de manera sencilla, indicano el nuevo nombre (utilizando `[]` o `$`) y luego asignando el objeto a almacenar en la nueva entrada."
      ]
    },
    {
      "cell_type": "code",
      "metadata": {
        "id": "gQ2thfZJiRu_",
        "outputId": "9262114a-199a-4f1a-94a3-ad26bf434890",
        "colab": {
          "base_uri": "https://localhost:8080/",
          "height": 412
        }
      },
      "source": [
        "# Creamos un slot llamado \"nuevo\" utilizadno [[]]\n",
        "lista$letras <- c(\"a\", \"b\", \"c\")\n",
        "\n",
        "# lista$ = lista[[]]\n",
        "lista[[\"letras_2\"]] <- c(\"a\", \"b\", \"c\")\n",
        "\n",
        "lista"
      ],
      "execution_count": 42,
      "outputs": [
        {
          "output_type": "display_data",
          "data": {
            "text/plain": [
              "$vector_num\n",
              " [1]  1  2  3  4  5  6  7  8  9 10\n",
              "\n",
              "$vector_chr\n",
              " [1] \"A\" \"B\" \"C\" \"D\" \"E\" \"F\" \"G\" \"H\" \"I\" \"J\"\n",
              "\n",
              "$matriz\n",
              "     [,1] [,2] [,3] [,4]\n",
              "[1,]    1    3    5    7\n",
              "[2,]    2    4    6    8\n",
              "\n",
              "$sublista\n",
              "$sublista$x1\n",
              "[1] 1 2 3 4 5\n",
              "\n",
              "$sublista$x2\n",
              "[1] \"a\" \"b\" \"c\" \"d\"\n",
              "\n",
              "\n",
              "$letras\n",
              "[1] \"a\" \"b\" \"c\"\n",
              "\n",
              "$letras_2\n",
              "[1] \"a\" \"b\" \"c\"\n"
            ],
            "text/latex": "\\begin{description}\n\\item[\\$vector\\_num] \\begin{enumerate*}\n\\item 1\n\\item 2\n\\item 3\n\\item 4\n\\item 5\n\\item 6\n\\item 7\n\\item 8\n\\item 9\n\\item 10\n\\end{enumerate*}\n\n\\item[\\$vector\\_chr] \\begin{enumerate*}\n\\item 'A'\n\\item 'B'\n\\item 'C'\n\\item 'D'\n\\item 'E'\n\\item 'F'\n\\item 'G'\n\\item 'H'\n\\item 'I'\n\\item 'J'\n\\end{enumerate*}\n\n\\item[\\$matriz] A matrix: 2 × 4 of type int\n\\begin{tabular}{llll}\n\t 1 & 3 & 5 & 7\\\\\n\t 2 & 4 & 6 & 8\\\\\n\\end{tabular}\n\n\\item[\\$sublista] \\begin{description}\n\\item[\\$x1] \\begin{enumerate*}\n\\item 1\n\\item 2\n\\item 3\n\\item 4\n\\item 5\n\\end{enumerate*}\n\n\\item[\\$x2] \\begin{enumerate*}\n\\item 'a'\n\\item 'b'\n\\item 'c'\n\\item 'd'\n\\end{enumerate*}\n\n\\end{description}\n\n\\item[\\$letras] \\begin{enumerate*}\n\\item 'a'\n\\item 'b'\n\\item 'c'\n\\end{enumerate*}\n\n\\item[\\$letras\\_2] \\begin{enumerate*}\n\\item 'a'\n\\item 'b'\n\\item 'c'\n\\end{enumerate*}\n\n\\end{description}\n",
            "text/markdown": "$vector_num\n:   1. 1\n2. 2\n3. 3\n4. 4\n5. 5\n6. 6\n7. 7\n8. 8\n9. 9\n10. 10\n\n\n\n$vector_chr\n:   1. 'A'\n2. 'B'\n3. 'C'\n4. 'D'\n5. 'E'\n6. 'F'\n7. 'G'\n8. 'H'\n9. 'I'\n10. 'J'\n\n\n\n$matriz\n:   \nA matrix: 2 × 4 of type int\n\n| 1 | 3 | 5 | 7 |\n| 2 | 4 | 6 | 8 |\n\n\n$sublista\n:   $x1\n:   1. 1\n2. 2\n3. 3\n4. 4\n5. 5\n\n\n\n$x2\n:   1. 'a'\n2. 'b'\n3. 'c'\n4. 'd'\n\n\n\n\n\n\n$letras\n:   1. 'a'\n2. 'b'\n3. 'c'\n\n\n\n$letras_2\n:   1. 'a'\n2. 'b'\n3. 'c'\n\n\n\n\n\n",
            "text/html": [
              "<dl>\n",
              "\t<dt>$vector_num</dt>\n",
              "\t\t<dd><style>\n",
              ".list-inline {list-style: none; margin:0; padding: 0}\n",
              ".list-inline>li {display: inline-block}\n",
              ".list-inline>li:not(:last-child)::after {content: \"\\00b7\"; padding: 0 .5ex}\n",
              "</style>\n",
              "<ol class=list-inline><li>1</li><li>2</li><li>3</li><li>4</li><li>5</li><li>6</li><li>7</li><li>8</li><li>9</li><li>10</li></ol>\n",
              "</dd>\n",
              "\t<dt>$vector_chr</dt>\n",
              "\t\t<dd><style>\n",
              ".list-inline {list-style: none; margin:0; padding: 0}\n",
              ".list-inline>li {display: inline-block}\n",
              ".list-inline>li:not(:last-child)::after {content: \"\\00b7\"; padding: 0 .5ex}\n",
              "</style>\n",
              "<ol class=list-inline><li>'A'</li><li>'B'</li><li>'C'</li><li>'D'</li><li>'E'</li><li>'F'</li><li>'G'</li><li>'H'</li><li>'I'</li><li>'J'</li></ol>\n",
              "</dd>\n",
              "\t<dt>$matriz</dt>\n",
              "\t\t<dd><table class=\"dataframe\">\n",
              "<caption>A matrix: 2 × 4 of type int</caption>\n",
              "<tbody>\n",
              "\t<tr><td>1</td><td>3</td><td>5</td><td>7</td></tr>\n",
              "\t<tr><td>2</td><td>4</td><td>6</td><td>8</td></tr>\n",
              "</tbody>\n",
              "</table>\n",
              "</dd>\n",
              "\t<dt>$sublista</dt>\n",
              "\t\t<dd><dl>\n",
              "\t<dt>$x1</dt>\n",
              "\t\t<dd><style>\n",
              ".list-inline {list-style: none; margin:0; padding: 0}\n",
              ".list-inline>li {display: inline-block}\n",
              ".list-inline>li:not(:last-child)::after {content: \"\\00b7\"; padding: 0 .5ex}\n",
              "</style>\n",
              "<ol class=list-inline><li>1</li><li>2</li><li>3</li><li>4</li><li>5</li></ol>\n",
              "</dd>\n",
              "\t<dt>$x2</dt>\n",
              "\t\t<dd><style>\n",
              ".list-inline {list-style: none; margin:0; padding: 0}\n",
              ".list-inline>li {display: inline-block}\n",
              ".list-inline>li:not(:last-child)::after {content: \"\\00b7\"; padding: 0 .5ex}\n",
              "</style>\n",
              "<ol class=list-inline><li>'a'</li><li>'b'</li><li>'c'</li><li>'d'</li></ol>\n",
              "</dd>\n",
              "</dl>\n",
              "</dd>\n",
              "\t<dt>$letras</dt>\n",
              "\t\t<dd><style>\n",
              ".list-inline {list-style: none; margin:0; padding: 0}\n",
              ".list-inline>li {display: inline-block}\n",
              ".list-inline>li:not(:last-child)::after {content: \"\\00b7\"; padding: 0 .5ex}\n",
              "</style>\n",
              "<ol class=list-inline><li>'a'</li><li>'b'</li><li>'c'</li></ol>\n",
              "</dd>\n",
              "\t<dt>$letras_2</dt>\n",
              "\t\t<dd><style>\n",
              ".list-inline {list-style: none; margin:0; padding: 0}\n",
              ".list-inline>li {display: inline-block}\n",
              ".list-inline>li:not(:last-child)::after {content: \"\\00b7\"; padding: 0 .5ex}\n",
              "</style>\n",
              "<ol class=list-inline><li>'a'</li><li>'b'</li><li>'c'</li></ol>\n",
              "</dd>\n",
              "</dl>\n"
            ]
          },
          "metadata": {}
        }
      ]
    },
    {
      "cell_type": "code",
      "metadata": {
        "id": "VFLfJtXCjIga"
      },
      "source": [
        "# Creamos un slot llamdo \"otro\" utilizando $"
      ],
      "execution_count": null,
      "outputs": []
    },
    {
      "cell_type": "markdown",
      "metadata": {
        "id": "128wI4ZoTpSS"
      },
      "source": [
        "## **2.2 Dataframes**\n",
        "\n",
        "Un dataframe es un caso particular de una lista, donde los objetos de cada entrada corresponden a vectores de datos del mismo largo. En este caso cada vector corresponde a una columna del data.frame, mientras que la cantidad de filas corresponde al largo común de los vectores de cada entrada. El objeto resultante es una *tabla*, de ahora en adelante *data.frame*, cuyas columnas poseen distintos tipos de datos entre sí. \n",
        "\n",
        " * ¿Cómo se declara un dataframe?<br>\n",
        "    Mediante la función **data.frame()**, indicando los vectores que conformarán las columnas.\n",
        " \n",
        " * ¿Cómo se accede a los datos de un data.frame?<br>\n",
        "    Al ser una lista, se puede acceder de la misma manera. Sin embargo también es posible acceder del modo en que se accede a los elementos de una matriz."
      ]
    },
    {
      "cell_type": "code",
      "metadata": {
        "id": "YtMue75EiMdw",
        "outputId": "ed0f8b34-0fda-4c6a-f9fd-8cd58aae0e27",
        "colab": {
          "base_uri": "https://localhost:8080/",
          "height": 35
        }
      },
      "source": [
        "df<- data.frame(nombre = c(\"juan\", \"pedro\", \"diego\"),\n",
        "                edad = c(35, 10, 50),\n",
        "                genero = c(\"M\", \"M\", \"M\"),\n",
        "                altura = c(1.81, 1.60, 1.70),\n",
        "                peso = c(81, 60, 70),\n",
        "            \n",
        "                estado_civil = c(T,F,F))\n",
        "\n",
        "\n",
        "\n",
        "class(df)"
      ],
      "execution_count": 49,
      "outputs": [
        {
          "output_type": "display_data",
          "data": {
            "text/plain": [
              "[1] \"data.frame\""
            ],
            "text/latex": "'data.frame'",
            "text/markdown": "'data.frame'",
            "text/html": [
              "'data.frame'"
            ]
          },
          "metadata": {}
        }
      ]
    },
    {
      "cell_type": "code",
      "metadata": {
        "id": "nv7stC8ITpSY"
      },
      "source": [
        "# Acceso a columnas de un data.frame\n",
        "## Igual que en una lista\n",
        "df$IMC <- df$peso/(df$altura)^2\n",
        "\n"
      ],
      "execution_count": null,
      "outputs": []
    },
    {
      "cell_type": "code",
      "metadata": {
        "id": "3t6_J3BHTpSb",
        "outputId": "c31fb0d3-5b3b-4551-a0b1-5868512284f3",
        "colab": {
          "base_uri": "https://localhost:8080/",
          "height": 181
        }
      },
      "source": [
        "df$IMC \n",
        "df[[\"IMC\"]]\n",
        "df[2, ]\n",
        "\n",
        "df[2, \"altura\"]"
      ],
      "execution_count": 53,
      "outputs": [
        {
          "output_type": "display_data",
          "data": {
            "text/plain": [
              "[1] 24.72452 23.43750 24.22145"
            ],
            "text/latex": "\\begin{enumerate*}\n\\item 24.7245200085467\n\\item 23.4375\n\\item 24.2214532871972\n\\end{enumerate*}\n",
            "text/markdown": "1. 24.7245200085467\n2. 23.4375\n3. 24.2214532871972\n\n\n",
            "text/html": [
              "<style>\n",
              ".list-inline {list-style: none; margin:0; padding: 0}\n",
              ".list-inline>li {display: inline-block}\n",
              ".list-inline>li:not(:last-child)::after {content: \"\\00b7\"; padding: 0 .5ex}\n",
              "</style>\n",
              "<ol class=list-inline><li>24.7245200085467</li><li>23.4375</li><li>24.2214532871972</li></ol>\n"
            ]
          },
          "metadata": {}
        },
        {
          "output_type": "display_data",
          "data": {
            "text/plain": [
              "[1] 24.72452 23.43750 24.22145"
            ],
            "text/latex": "\\begin{enumerate*}\n\\item 24.7245200085467\n\\item 23.4375\n\\item 24.2214532871972\n\\end{enumerate*}\n",
            "text/markdown": "1. 24.7245200085467\n2. 23.4375\n3. 24.2214532871972\n\n\n",
            "text/html": [
              "<style>\n",
              ".list-inline {list-style: none; margin:0; padding: 0}\n",
              ".list-inline>li {display: inline-block}\n",
              ".list-inline>li:not(:last-child)::after {content: \"\\00b7\"; padding: 0 .5ex}\n",
              "</style>\n",
              "<ol class=list-inline><li>24.7245200085467</li><li>23.4375</li><li>24.2214532871972</li></ol>\n"
            ]
          },
          "metadata": {}
        },
        {
          "output_type": "display_data",
          "data": {
            "text/plain": [
              "  nombre edad genero altura peso estado_civil IMC    \n",
              "2 pedro  10   M      1.6    60   FALSE        23.4375"
            ],
            "text/latex": "A data.frame: 1 × 7\n\\begin{tabular}{r|lllllll}\n  & nombre & edad & genero & altura & peso & estado\\_civil & IMC\\\\\n  & <chr> & <dbl> & <chr> & <dbl> & <dbl> & <lgl> & <dbl>\\\\\n\\hline\n\t2 & pedro & 10 & M & 1.6 & 60 & FALSE & 23.4375\\\\\n\\end{tabular}\n",
            "text/markdown": "\nA data.frame: 1 × 7\n\n| <!--/--> | nombre &lt;chr&gt; | edad &lt;dbl&gt; | genero &lt;chr&gt; | altura &lt;dbl&gt; | peso &lt;dbl&gt; | estado_civil &lt;lgl&gt; | IMC &lt;dbl&gt; |\n|---|---|---|---|---|---|---|---|\n| 2 | pedro | 10 | M | 1.6 | 60 | FALSE | 23.4375 |\n\n",
            "text/html": [
              "<table class=\"dataframe\">\n",
              "<caption>A data.frame: 1 × 7</caption>\n",
              "<thead>\n",
              "\t<tr><th></th><th scope=col>nombre</th><th scope=col>edad</th><th scope=col>genero</th><th scope=col>altura</th><th scope=col>peso</th><th scope=col>estado_civil</th><th scope=col>IMC</th></tr>\n",
              "\t<tr><th></th><th scope=col>&lt;chr&gt;</th><th scope=col>&lt;dbl&gt;</th><th scope=col>&lt;chr&gt;</th><th scope=col>&lt;dbl&gt;</th><th scope=col>&lt;dbl&gt;</th><th scope=col>&lt;lgl&gt;</th><th scope=col>&lt;dbl&gt;</th></tr>\n",
              "</thead>\n",
              "<tbody>\n",
              "\t<tr><th scope=row>2</th><td>pedro</td><td>10</td><td>M</td><td>1.6</td><td>60</td><td>FALSE</td><td>23.4375</td></tr>\n",
              "</tbody>\n",
              "</table>\n"
            ]
          },
          "metadata": {}
        },
        {
          "output_type": "display_data",
          "data": {
            "text/plain": [
              "[1] 1.6"
            ],
            "text/latex": "1.6",
            "text/markdown": "1.6",
            "text/html": [
              "1.6"
            ]
          },
          "metadata": {}
        }
      ]
    },
    {
      "cell_type": "code",
      "metadata": {
        "id": "FgD5Q8hFTpSf"
      },
      "source": [
        "#Podemos crear nuevas columnas , del mismmo modo que creamos \"slots\" en una lista\n",
        "df$IMC <- df$peso/(df$altura)^2"
      ],
      "execution_count": null,
      "outputs": []
    },
    {
      "cell_type": "code",
      "metadata": {
        "id": "NHtO3MHwTpSj"
      },
      "source": [
        "# Referenciando las posiciones de las columnas\n"
      ],
      "execution_count": null,
      "outputs": []
    },
    {
      "cell_type": "markdown",
      "metadata": {
        "id": "3OKSX6BRmK9g"
      },
      "source": [
        "\n",
        "\n",
        "---\n",
        "# **Taller 2**\n",
        "La siguiente línea de código permite cargar en memoria, un objeto de extensión *.rds que está almacenado en el disco de la máquina en la ruta actual de trabajo.\n",
        "\n",
        "Este archivo contiene la información de los contagios por COVID-19 en nuestsro país, según las cifras oficiales entregadas por el ministerio de salud actualizadas al 08 de mayo. En el archivo encontrará, **para cada mes, el total de casos diarios** desglosados según:\n",
        "   * 'casos_nuevos_con_sintomas': casos nuevos con síntomas del día.\n",
        "   * 'casos_totales' : casos acumulados a la fecha.\n",
        "   * 'casos_recuperados': casos recuperados acumulados a la fecha.\n",
        "   * 'fallecidos': casos fallecidos acumulados.\n",
        "   * 'casos_activos': casos activos a la fecha.\n",
        "   * 'casos_nuevos_sin_sintomas': casos asintomáticos del día.\n",
        "   * 'casos_nuevos_totales': suma de  casos asintomáticos más casos con síntomas del día.\n",
        " \n",
        " Si bien no será utilizados en este trabajo, también econtrán nuevos registros de acuerdo a los últimos cambios en la metodología de conteo. Para más info pueden referirse al siguiente link:\n",
        " https://github.com/MinCiencia/Datos-COVID19/tree/master/output/producto5\n",
        " \n",
        "   * 'casos_activos_por_fd'\n",
        "   * 'casos_activos_por_fis'\n",
        "   * 'casos_recuperados_por_fis'\n",
        "   * 'casos_recuperados_por_fd' \n",
        "   * 'casos_confirmados_recuperados'\n",
        "   * 'casos_activos_confirmados'\n",
        "   * 'casos_probables_acumulados'\n",
        "   * 'casos_activos_probables'\n",
        "\n",
        "\n"
      ]
    },
    {
      "cell_type": "markdown",
      "metadata": {
        "id": "1Zqazqfcnxdk"
      },
      "source": [
        "## Pregunta 1.1\n",
        "\n",
        "**1a)** ¿Qué clase de objetos es `casos`? <br>\n",
        "**1b)** ¿Cuántos elementos posee este objeto?<br>\n",
        "**1c)** ¿Cuáles son los nombres de este objeto?<br>\n",
        "**1d)** ¿Qué clase de objeto está almacenado en sl _slot_ correspondiente al mes de junio (\"jun\") y cuántos elementos posee?<br>\n",
        "**1e)** Para el mes de junio, ¿a qué clase de objeto corresponde `casos_totales` y cuántos elementos posee?\n",
        "\n",
        "\n"
      ]
    },
    {
      "cell_type": "code",
      "metadata": {
        "id": "vzgV24TrkhDF",
        "outputId": "cf0ef57b-2b76-4fb1-e883-cbfc714aadd9",
        "colab": {
          "base_uri": "https://localhost:8080/",
          "height": 35
        }
      },
      "source": [
        "casos <- readRDS(\"covid.rds\")\n",
        "names(casos)\n",
        "\n",
        "#str(casos)\n"
      ],
      "execution_count": 57,
      "outputs": [
        {
          "output_type": "display_data",
          "data": {
            "text/plain": [
              "[1] \"mar\" \"abr\" \"may\" \"jun\" \"jul\""
            ],
            "text/latex": "\\begin{enumerate*}\n\\item 'mar'\n\\item 'abr'\n\\item 'may'\n\\item 'jun'\n\\item 'jul'\n\\end{enumerate*}\n",
            "text/markdown": "1. 'mar'\n2. 'abr'\n3. 'may'\n4. 'jun'\n5. 'jul'\n\n\n",
            "text/html": [
              "<style>\n",
              ".list-inline {list-style: none; margin:0; padding: 0}\n",
              ".list-inline>li {display: inline-block}\n",
              ".list-inline>li:not(:last-child)::after {content: \"\\00b7\"; padding: 0 .5ex}\n",
              "</style>\n",
              "<ol class=list-inline><li>'mar'</li><li>'abr'</li><li>'may'</li><li>'jun'</li><li>'jul'</li></ol>\n"
            ]
          },
          "metadata": {}
        }
      ]
    },
    {
      "cell_type": "code",
      "metadata": {
        "id": "mKw24Fn0nwAt",
        "outputId": "40d7b4ce-0ca0-47be-90d7-03d8d0c8a5b2",
        "colab": {
          "base_uri": "https://localhost:8080/",
          "height": 35
        }
      },
      "source": [
        "# P1.1a\n",
        "## Respuesta \n",
        "class(casos)"
      ],
      "execution_count": 58,
      "outputs": [
        {
          "output_type": "display_data",
          "data": {
            "text/plain": [
              "[1] \"list\""
            ],
            "text/latex": "'list'",
            "text/markdown": "'list'",
            "text/html": [
              "'list'"
            ]
          },
          "metadata": {}
        }
      ]
    },
    {
      "cell_type": "code",
      "metadata": {
        "id": "liqqwk4m7zP6",
        "outputId": "5efd58e9-ea4c-472d-b651-2061f0e3ee26",
        "colab": {
          "base_uri": "https://localhost:8080/",
          "height": 35
        }
      },
      "source": [
        "# P1.1b\n",
        "## Respuesta \n",
        "length(casos)"
      ],
      "execution_count": 59,
      "outputs": [
        {
          "output_type": "display_data",
          "data": {
            "text/plain": [
              "[1] 5"
            ],
            "text/latex": "5",
            "text/markdown": "5",
            "text/html": [
              "5"
            ]
          },
          "metadata": {}
        }
      ]
    },
    {
      "cell_type": "code",
      "metadata": {
        "id": "R8K7J-lA8Bzl",
        "outputId": "70b9151c-50a5-4075-8c17-8b7e4def4122",
        "colab": {
          "base_uri": "https://localhost:8080/",
          "height": 35
        }
      },
      "source": [
        "# P1.1c\n",
        "## Respuesta \n",
        "names(casos)"
      ],
      "execution_count": 60,
      "outputs": [
        {
          "output_type": "display_data",
          "data": {
            "text/plain": [
              "[1] \"mar\" \"abr\" \"may\" \"jun\" \"jul\""
            ],
            "text/latex": "\\begin{enumerate*}\n\\item 'mar'\n\\item 'abr'\n\\item 'may'\n\\item 'jun'\n\\item 'jul'\n\\end{enumerate*}\n",
            "text/markdown": "1. 'mar'\n2. 'abr'\n3. 'may'\n4. 'jun'\n5. 'jul'\n\n\n",
            "text/html": [
              "<style>\n",
              ".list-inline {list-style: none; margin:0; padding: 0}\n",
              ".list-inline>li {display: inline-block}\n",
              ".list-inline>li:not(:last-child)::after {content: \"\\00b7\"; padding: 0 .5ex}\n",
              "</style>\n",
              "<ol class=list-inline><li>'mar'</li><li>'abr'</li><li>'may'</li><li>'jun'</li><li>'jul'</li></ol>\n"
            ]
          },
          "metadata": {}
        }
      ]
    },
    {
      "cell_type": "code",
      "metadata": {
        "id": "DVzzxRyC8LuC",
        "outputId": "4ff42c34-d0d2-48e5-8389-289b13fcce59",
        "colab": {
          "base_uri": "https://localhost:8080/",
          "height": 35
        }
      },
      "source": [
        "# P1.1d\n",
        "## Respuesta \n",
        "\n",
        "length(casos$jun)\n"
      ],
      "execution_count": 61,
      "outputs": [
        {
          "output_type": "display_data",
          "data": {
            "text/plain": [
              "[1] 15"
            ],
            "text/latex": "15",
            "text/markdown": "15",
            "text/html": [
              "15"
            ]
          },
          "metadata": {}
        }
      ]
    },
    {
      "cell_type": "code",
      "metadata": {
        "id": "cAD-c4Lz8oL7",
        "outputId": "dd98c75a-d37e-49a5-8828-b28ef8d5982a",
        "colab": {
          "base_uri": "https://localhost:8080/",
          "height": 337
        }
      },
      "source": [
        "# P1.1e\n",
        "\n",
        "class(casos$jun$casos_totales)\n",
        "\n",
        "df_1 <- casos$jun$casos_totales\n",
        "\n",
        "head(df_1)\n",
        "\n",
        "length(df_1)\n",
        "\n",
        "dim(df_1)\n"
      ],
      "execution_count": 65,
      "outputs": [
        {
          "output_type": "display_data",
          "data": {
            "text/plain": [
              "[1] \"data.frame\""
            ],
            "text/latex": "'data.frame'",
            "text/markdown": "'data.frame'",
            "text/html": [
              "'data.frame'"
            ]
          },
          "metadata": {}
        },
        {
          "output_type": "display_data",
          "data": {
            "text/plain": [
              "  total  dia_del_mes\n",
              "1 105159 1          \n",
              "2 108686 2          \n",
              "3 113628 3          \n",
              "4 118292 4          \n",
              "5 122499 5          \n",
              "6 127745 6          "
            ],
            "text/latex": "A data.frame: 6 × 2\n\\begin{tabular}{r|ll}\n  & total & dia\\_del\\_mes\\\\\n  & <dbl> & <int>\\\\\n\\hline\n\t1 & 105159 & 1\\\\\n\t2 & 108686 & 2\\\\\n\t3 & 113628 & 3\\\\\n\t4 & 118292 & 4\\\\\n\t5 & 122499 & 5\\\\\n\t6 & 127745 & 6\\\\\n\\end{tabular}\n",
            "text/markdown": "\nA data.frame: 6 × 2\n\n| <!--/--> | total &lt;dbl&gt; | dia_del_mes &lt;int&gt; |\n|---|---|---|\n| 1 | 105159 | 1 |\n| 2 | 108686 | 2 |\n| 3 | 113628 | 3 |\n| 4 | 118292 | 4 |\n| 5 | 122499 | 5 |\n| 6 | 127745 | 6 |\n\n",
            "text/html": [
              "<table class=\"dataframe\">\n",
              "<caption>A data.frame: 6 × 2</caption>\n",
              "<thead>\n",
              "\t<tr><th></th><th scope=col>total</th><th scope=col>dia_del_mes</th></tr>\n",
              "\t<tr><th></th><th scope=col>&lt;dbl&gt;</th><th scope=col>&lt;int&gt;</th></tr>\n",
              "</thead>\n",
              "<tbody>\n",
              "\t<tr><th scope=row>1</th><td>105159</td><td>1</td></tr>\n",
              "\t<tr><th scope=row>2</th><td>108686</td><td>2</td></tr>\n",
              "\t<tr><th scope=row>3</th><td>113628</td><td>3</td></tr>\n",
              "\t<tr><th scope=row>4</th><td>118292</td><td>4</td></tr>\n",
              "\t<tr><th scope=row>5</th><td>122499</td><td>5</td></tr>\n",
              "\t<tr><th scope=row>6</th><td>127745</td><td>6</td></tr>\n",
              "</tbody>\n",
              "</table>\n"
            ]
          },
          "metadata": {}
        },
        {
          "output_type": "display_data",
          "data": {
            "text/plain": [
              "[1] 2"
            ],
            "text/latex": "2",
            "text/markdown": "2",
            "text/html": [
              "2"
            ]
          },
          "metadata": {}
        },
        {
          "output_type": "display_data",
          "data": {
            "text/plain": [
              "[1] 30  2"
            ],
            "text/latex": "\\begin{enumerate*}\n\\item 30\n\\item 2\n\\end{enumerate*}\n",
            "text/markdown": "1. 30\n2. 2\n\n\n",
            "text/html": [
              "<style>\n",
              ".list-inline {list-style: none; margin:0; padding: 0}\n",
              ".list-inline>li {display: inline-block}\n",
              ".list-inline>li:not(:last-child)::after {content: \"\\00b7\"; padding: 0 .5ex}\n",
              "</style>\n",
              "<ol class=list-inline><li>30</li><li>2</li></ol>\n"
            ]
          },
          "metadata": {}
        }
      ]
    },
    {
      "cell_type": "markdown",
      "metadata": {
        "id": "AT8x21Yto0SD"
      },
      "source": [
        "## Pregunta 1.2\n",
        "\n",
        "**2a)** ¿Cuántos casos activos existían al 25 de marzo? (indique claramente la expresión de R para obtener el valor solicitado) .<br>\n",
        "**2b)** Genere cinco nuevas variables llamadas `totales_marzo`,`totales_abril` , `totales_mayo`, `totales_junio` y `totales_julio`, que contengan los dataframes correspondientes al slot `casos_totales` del mes respectivo, (por ejemplo, la variable `totales_julio` debe contener una dataframe de dimensión $8\\times2$.<br>\n",
        "**2c)** Para cada dataframe del paso anterior, genere una nueva columna llamada `mes`, que repita el nombre del mes correspondiente por cada fila.<br>\n",
        "**2d)** En cada data.frame, agregue una nueva columna llamada `casos_diarios` que contanga la información correspontiende al total de casos nuevos diarios(`casos_nuevos_totales`).\n"
      ]
    },
    {
      "cell_type": "code",
      "metadata": {
        "id": "jQxyM_qeo0ZS",
        "outputId": "865a4e05-ba19-4f04-f338-90d7268d3062",
        "colab": {
          "base_uri": "https://localhost:8080/",
          "height": 129
        }
      },
      "source": [
        "## Respuesta \n",
        "#P2.a\n",
        "\n",
        "casos_activos <- casos$mar$casos_activos\n",
        "\n",
        "condicion <- which(casos_activos[[\"dia_del_mes\"]] == 25)\n",
        "\n",
        "casos_activos[ condicion,  ]\n",
        "\n"
      ],
      "execution_count": 71,
      "outputs": [
        {
          "output_type": "display_data",
          "data": {
            "text/plain": [
              "   total dia_del_mes\n",
              "24 1117  25         "
            ],
            "text/latex": "A data.frame: 1 × 2\n\\begin{tabular}{r|ll}\n  & total & dia\\_del\\_mes\\\\\n  & <dbl> & <int>\\\\\n\\hline\n\t24 & 1117 & 25\\\\\n\\end{tabular}\n",
            "text/markdown": "\nA data.frame: 1 × 2\n\n| <!--/--> | total &lt;dbl&gt; | dia_del_mes &lt;int&gt; |\n|---|---|---|\n| 24 | 1117 | 25 |\n\n",
            "text/html": [
              "<table class=\"dataframe\">\n",
              "<caption>A data.frame: 1 × 2</caption>\n",
              "<thead>\n",
              "\t<tr><th></th><th scope=col>total</th><th scope=col>dia_del_mes</th></tr>\n",
              "\t<tr><th></th><th scope=col>&lt;dbl&gt;</th><th scope=col>&lt;int&gt;</th></tr>\n",
              "</thead>\n",
              "<tbody>\n",
              "\t<tr><th scope=row>24</th><td>1117</td><td>25</td></tr>\n",
              "</tbody>\n",
              "</table>\n"
            ]
          },
          "metadata": {}
        }
      ]
    },
    {
      "cell_type": "markdown",
      "metadata": {
        "id": "mO_ORER5o0gU"
      },
      "source": [
        "## Pregunta 1.3\n",
        "\n",
        "**3a)** Con la ayuda de lafunción rbind() , una las filas de las 5 tablas generadas en la pregunta anterior y guarde la tabla resultante en una variable llamada `casos_hist`.<br>\n",
        "**3b)** En promedio, ¿Cuántos casos hay diariamente desde el 03 de marzo hasta el 08 de julio?<br>\n",
        "**3c)** En promedio, ¿Cuántos casos hay diariamente **en cada mes** ?.<br>\n"
      ]
    },
    {
      "cell_type": "code",
      "metadata": {
        "id": "uXSX0rCBo0mQ"
      },
      "source": [
        "# P1.3\n",
        "## Respuesta\n"
      ],
      "execution_count": null,
      "outputs": []
    },
    {
      "cell_type": "markdown",
      "metadata": {
        "id": "tgYsAD75o0rb"
      },
      "source": [
        "# Sección 2\n",
        "\n",
        "La siguiente celda de código permitirá cargar en su sesión de trabajo los siguientes vectores:\n",
        "* `temp_hombre`: Contiene el registro de la temperatura para una muestra de 650 hombres escogidos al azar.\n",
        "* `temp_mujer`: Contiene el registro de la temperatura para una muestra de 580 mujeres escogidas al azar.\n",
        "\n",
        "\n",
        "En ambos vectores, **los identificadores (id) de cada persona están contenidos en el atributo `names()`** del vector respectivo."
      ]
    },
    {
      "cell_type": "code",
      "metadata": {
        "id": "89DwdTUEo0xl"
      },
      "source": [
        "temp_h <- readRDS(\"temp_h.rds\")\n",
        "temp_m <- readRDS(\"temp_m.rds\")"
      ],
      "execution_count": null,
      "outputs": []
    },
    {
      "cell_type": "markdown",
      "metadata": {
        "id": "GBjrXxozo021"
      },
      "source": [
        "##  Pregunta 2.1\n",
        "\n",
        "**P1)** A partir de los dos vectores cargados `temp_h` y `temp_m` ustred deberá crear un data.frame llamado **`casos`** con tres columnas y un total de 1230 filas. Las columnas deben ser las siguientes; una con el id del registro, otra con el género y otra con la temperatura registrada. A modo de ejemplo, a continuación se muestra como debería quedar el data.frame:\n",
        "\n",
        "\n",
        "|id | genero | temperatura|\n",
        "|---|---|---|\n",
        "| h_162 | hombre | 36.8 |\n",
        "| h_140 | hombre | 38.7 |\n",
        "| h_13  | hombre | 36.1 |\n",
        "| $\\vdots$| $\\vdots$ | $\\vdots$|\n",
        "| m_16  | mujer | 39.1 |\n",
        "| m_502 | mujer | 40.1 |\n",
        "| m_189 | mujer | 36.8 |"
      ]
    },
    {
      "cell_type": "code",
      "metadata": {
        "id": "YJYZPGYppODi"
      },
      "source": [
        "# P2.1. ---------------------------------------------------------------------\n",
        "## Respuesta:\n"
      ],
      "execution_count": null,
      "outputs": []
    },
    {
      "cell_type": "markdown",
      "metadata": {
        "id": "lfWQ0GitpaKO"
      },
      "source": [
        "## Pregunta 2.2\n",
        "\n",
        "Adicionalmente, se cuenta con la información de síntomas presentados por cada presona registrada. Esta información se encuentra disponible en el archivo `sintomas.rds`.\n",
        "\n",
        "**2a)** Cargue el archivo `sintomas.rds` en una variable llamada _sintomas_.<br>\n",
        "**2b)** ¿Cuál es la clase de este objeto?.<br>\n",
        "**2c)** Note que cada fila undica con un 1 si la persona presentó el respectivo síntoma y 0 si no. ¿Qué sintomas presentó la persona ubicada en el registro 450?.<br>\n",
        "**2d)** ¿Qué síntomas y qué temperatura presentó la persona con id \"h_537\"?. Si es le es de utilidad puede utilizar la función `rownames()`, la cual permite obtener los nombres (id) de las filas de una matriz.<br>"
      ]
    },
    {
      "cell_type": "code",
      "metadata": {
        "id": "0HLg2sk6o088"
      },
      "source": [
        "# P2 .2\n",
        "## Respuestas:"
      ],
      "execution_count": null,
      "outputs": []
    },
    {
      "cell_type": "markdown",
      "metadata": {
        "id": "HjdVpbOOo1CM"
      },
      "source": [
        "## Nota de utilidad\n",
        "\n",
        "Ya sea trabajando con un vector, matriz, data.frame o lista, es posible omitir la selección de alguna(s) de sus posiciones (filas/columnas o slots). Esto se puede llevar a cabo de diversas maneras, por ejemplo:"
      ]
    },
    {
      "cell_type": "code",
      "metadata": {
        "id": "EaE41VqBo1H0"
      },
      "source": [
        "# Primero creamos un vector, una matriz, un data.frame  y una lista \n",
        "\n",
        "vec <- c(v1 = 1, v2 = 2, v3 = 3,v4 = 4)\n",
        "mat <- cbind(c(1,1),c(2,2),c(3,3),c(4,4) ) ; rownames(mat) <- c(\"f1\",\"f2\"); colnames(mat) <- c(\"c1\",\"c2\",\"c3\",\"c4\")\n",
        "dat <- as.data.frame(mat)\n",
        "lis <- list(s1 = c(1,1), s2 = c(2,2), s3 = c(3,3) , s4 = c(4,4))"
      ],
      "execution_count": null,
      "outputs": []
    },
    {
      "cell_type": "markdown",
      "metadata": {
        "id": "UV_GgaCAo1NG"
      },
      "source": [
        "### Omisión por posición"
      ]
    },
    {
      "cell_type": "code",
      "metadata": {
        "id": "jvck_ewdo1S3"
      },
      "source": [
        "#Si queremos omitir el primer y tercer elmento del vector y la lista\n",
        "vec[-c(1,3)]\n",
        "lis[-c(1,3)]\n",
        "\n",
        "# Misma idea si queremos omitir columnas de una matriz (o data.frame)\n",
        "mat[,-c(1,3)]\n",
        "dat[,-c(1,3)]"
      ],
      "execution_count": null,
      "outputs": []
    },
    {
      "cell_type": "markdown",
      "metadata": {
        "id": "92C6VPBPo1Yd"
      },
      "source": [
        "### Omisión por nombres"
      ]
    },
    {
      "cell_type": "code",
      "metadata": {
        "id": "hh6zosZZo1d-"
      },
      "source": [
        "# Por ahora tendremos que ubicar las posiciones de los nombres deseados.\n",
        "\n",
        "pos_vec <- which(names(vec) %in% c(\"v1\",\"v3\"))\n",
        "pos_lis <- which(names(lis) %in% c(\"s1\",\"s3\"))\n",
        "pos_mat <- which(colnames(mat) %in% c(\"c1\",\"c3\"))\n",
        "pos_dat <- which(names(dat) %in% c(\"c1\",\"c3\"))\n",
        "\n",
        "vec[-pos_vec]\n",
        "lis[-pos_lis]\n",
        "\n",
        "# Misma idea si queremos omitir columnas de una matriz (o data.frame)\n",
        "mat[,-pos_mat]\n",
        "dat[,-pos_dat]"
      ],
      "execution_count": null,
      "outputs": []
    },
    {
      "cell_type": "markdown",
      "metadata": {
        "id": "V82HXEPao1il"
      },
      "source": [
        "Más adelante veremos otras alternivas, como por ejemplo, utilizando funciones del package `dplyr`.\n",
        "\n",
        "## Pregunta 2.3\n",
        "\n",
        "Con la ayuda de las funciones `rowSums()` y `colSums()`, identifique lo siguiente.\n",
        "\n",
        "  **3a)** ¿Cuántos registros presentaron exactamente los 4 síntomas?<br>\n",
        "  **3b)** ¿Cúantas personas presentaron tos? <br>\n",
        "  **3c)** ¿Cuál es el síntoma más frecuente?<br>\n",
        "  "
      ]
    },
    {
      "cell_type": "code",
      "metadata": {
        "id": "VcdCp88oo1ob"
      },
      "source": [
        "# P3\n",
        "##Respuestas:\n"
      ],
      "execution_count": null,
      "outputs": []
    },
    {
      "cell_type": "markdown",
      "metadata": {
        "id": "xQpbdDq7o1tD"
      },
      "source": [
        "## Pregunta 2.4\n",
        "\n",
        "**4a)** La función `as.data.frame()` permite coercionar un objeto de otra clase a `data.frame`.\n",
        "cree una variable llamada `sintomas_df` con la información  de sintomas pero como data.frame.<br>\n",
        "**4b)**\n",
        "Se puede observar que los ids solo están disponibles en los nombres de las filas. Sin embargo esútil tener esta información como una columna más de la tabla. Para ello **cree una nueva columna en la tabla sintomas_df** llamada `id` que contenga los ids de cada registro. \n",
        "\n",
        "NOTA: El orden de las filas no ha variado por lo que podemos añadir la columna sin mayores precauciones.<br>\n",
        "**4c)** ¿Cuántas personas **sólo** presentaron tos y dolor de cabeza?<br>\n",
        "**4d)** Se sabe que una persona tiene fiebre cuando su temperatura es mayor o igual a los 37.2°. **Cree una nueva columna en la tabla sintomas_df** llamada `tiene_fiebre` que contenga `TRUE` cuando tiene fiebre y `FALSE` en caso contrario. \n",
        "\n"
      ]
    },
    {
      "cell_type": "code",
      "metadata": {
        "id": "UUtlInMso1yP"
      },
      "source": [
        "# P4\n",
        "#Respuestas:\n"
      ],
      "execution_count": null,
      "outputs": []
    }
  ]
}