{
  "nbformat": 4,
  "nbformat_minor": 0,
  "metadata": {
    "colab": {
      "name": "A1_02_listas_y_dataframes.ipynb",
      "provenance": [],
      "collapsed_sections": [],
      "include_colab_link": true
    },
    "kernelspec": {
      "display_name": "R",
      "name": "ir"
    }
  },
  "cells": [
    {
      "cell_type": "markdown",
      "metadata": {
        "id": "view-in-github",
        "colab_type": "text"
      },
      "source": [
        "<a href=\"https://colab.research.google.com/github/rumorale/Capstone/blob/master/Ayudant%C3%ADas/A1/A1_02_listas_y_dataframes_desarrollo.ipynb\" target=\"_parent\"><img src=\"https://colab.research.google.com/assets/colab-badge.svg\" alt=\"Open In Colab\"/></a>"
      ]
    },
    {
      "cell_type": "markdown",
      "metadata": {
        "collapsed": true,
        "id": "fgQ2azLwTpRn"
      },
      "source": [
        "# **Ayudantía 1**\n",
        "\n",
        "**Ayudante:** Rodrigo Morales Méndez<br>\n",
        "**E-mail ayudante:** rumorale1@gmail.com\n",
        "\n",
        "\n",
        "\n",
        "# **2 Listas y Dataframes**\n",
        "\n",
        "## **2.1 Listas**\n",
        "\n",
        "Hasta aquí contamos con dos tipos de objetos para almacenar datos; vectores y matrices. Sin embargo, en ambos casos se tiene la limitante de que no es posible combinar distintos tipos de datos en diferentes entradas. Un objeto que permite una mayor flexibilidad son las listas. En R, una lista es básicamente un arreglo unidimensional, donde en cada entrada es posible almacenar distintos **objetos** (los cuales a su vez pueden almacenar distintos tipos de datos (u otros objetos).\n",
        "En resumen,\n",
        "\n",
        "   * ¿Qué son?<br>\n",
        "    Arreglos unidimensionales que guardan distintos tipos de datos u objetos.<br>\n",
        "\n",
        "   * ¿Cómo se declaran?<br>\n",
        "    Se pueden declarar mediante el comando list() o combinando listas existentes. <br>\n",
        "    \n",
        "   * ¿Cómo se accede a sus elementos?<br>\n",
        "    Usando el **operador [ ]** (retorna lista), o bien usando **[ [ ] ]** (retorna el objeto) - \"squarebrackets\". \n",
        "\n",
        "    En cada caso se puede indicar la posición o nombre del objeto que se quiere rescatar.<br>\n",
        "    \n",
        "    Otra manera es mediante el símbolo $ seguido del nombre del objeto.\n",
        "\n"
      ]
    },
    {
      "cell_type": "code",
      "metadata": {
        "id": "zZHpLzzRTpRp"
      },
      "source": [
        "# 2. Listas y dataframes ------------\n",
        "# 2.1 Listas  \n",
        "lista1 <-list()"
      ],
      "execution_count": 1,
      "outputs": []
    },
    {
      "cell_type": "code",
      "metadata": {
        "colab": {
          "base_uri": "https://localhost:8080/"
        },
        "id": "_iwOQA-xTzww",
        "outputId": "5a21b90a-732d-4b69-907f-e1285d087f3a"
      },
      "source": [
        "# estructura\n",
        "str(lista1)"
      ],
      "execution_count": 2,
      "outputs": [
        {
          "output_type": "stream",
          "text": [
            "List of 5\n",
            " $ num   : num 6\n",
            " $ letra : chr \"A\"\n",
            " $ vector: num [1:3] 10 20 30\n",
            " $ matriz: num [1:4, 1:4] 8 0 0 0 0 8 0 0 0 0 ...\n",
            " $ lista :List of 2\n",
            "  ..$ a: chr \"hola\"\n",
            "  ..$ b: num 18\n"
          ],
          "name": "stdout"
        }
      ]
    },
    {
      "cell_type": "code",
      "metadata": {
        "id": "dP0doaUSxAR4",
        "outputId": "14d6cb11-ad0d-457e-f338-9c53fce581c8",
        "colab": {
          "base_uri": "https://localhost:8080/",
          "height": 35
        }
      },
      "source": [
        "# Obtenemos la clase del objeto\n",
        "class(lista1)"
      ],
      "execution_count": 3,
      "outputs": [
        {
          "output_type": "display_data",
          "data": {
            "text/plain": [
              "[1] \"list\""
            ],
            "text/latex": "'list'",
            "text/markdown": "'list'",
            "text/html": [
              "'list'"
            ]
          },
          "metadata": {}
        }
      ]
    },
    {
      "cell_type": "code",
      "metadata": {
        "id": "9E8K8_Q3w8xq",
        "outputId": "0ccb4182-cb1e-4990-865a-bb830d93991d",
        "colab": {
          "base_uri": "https://localhost:8080/",
          "height": 53
        }
      },
      "source": [
        "# para saber el largo de la lista/vector\n",
        "length(lista1)\n"
      ],
      "execution_count": 6,
      "outputs": [
        {
          "output_type": "display_data",
          "data": {
            "text/plain": [
              "[1] 5"
            ],
            "text/latex": "5",
            "text/markdown": "5",
            "text/html": [
              "5"
            ]
          },
          "metadata": {}
        },
        {
          "output_type": "display_data",
          "data": {
            "text/plain": [
              "NULL"
            ]
          },
          "metadata": {}
        }
      ]
    },
    {
      "cell_type": "code",
      "metadata": {
        "id": "zaCjxWeJwpWm",
        "outputId": "2e70af1a-f476-4b84-d15e-fc778aeee783",
        "colab": {
          "base_uri": "https://localhost:8080/",
          "height": 35
        }
      },
      "source": [
        "# Para obtener los nombres de la lista\n",
        "names(lista1)"
      ],
      "execution_count": 7,
      "outputs": [
        {
          "output_type": "display_data",
          "data": {
            "text/plain": [
              "[1] \"num\"    \"letra\"  \"vector\" \"matriz\" \"lista\" "
            ],
            "text/latex": "\\begin{enumerate*}\n\\item 'num'\n\\item 'letra'\n\\item 'vector'\n\\item 'matriz'\n\\item 'lista'\n\\end{enumerate*}\n",
            "text/markdown": "1. 'num'\n2. 'letra'\n3. 'vector'\n4. 'matriz'\n5. 'lista'\n\n\n",
            "text/html": [
              "<style>\n",
              ".list-inline {list-style: none; margin:0; padding: 0}\n",
              ".list-inline>li {display: inline-block}\n",
              ".list-inline>li:not(:last-child)::after {content: \"\\00b7\"; padding: 0 .5ex}\n",
              "</style>\n",
              "<ol class=list-inline><li>'num'</li><li>'letra'</li><li>'vector'</li><li>'matriz'</li><li>'lista'</li></ol>\n"
            ]
          },
          "metadata": {}
        }
      ]
    },
    {
      "cell_type": "code",
      "metadata": {
        "id": "3Sp-3bDgwMVh",
        "outputId": "5b2d1f9e-ddbd-4d09-cc7f-81312af74ee0",
        "colab": {
          "base_uri": "https://localhost:8080/",
          "height": 115
        }
      },
      "source": [
        "# Ejemplo de una lista simple sin nombres\n",
        "lista_test <- list(\"Hola\",42,TRUE)\n",
        "lista_test\n",
        "\n",
        "names(lista_test)"
      ],
      "execution_count": 8,
      "outputs": [
        {
          "output_type": "display_data",
          "data": {
            "text/plain": [
              "[[1]]\n",
              "[1] \"Hola\"\n",
              "\n",
              "[[2]]\n",
              "[1] 42\n",
              "\n",
              "[[3]]\n",
              "[1] TRUE\n"
            ],
            "text/latex": "\\begin{enumerate}\n\\item 'Hola'\n\\item 42\n\\item TRUE\n\\end{enumerate}\n",
            "text/markdown": "1. 'Hola'\n2. 42\n3. TRUE\n\n\n",
            "text/html": [
              "<ol>\n",
              "\t<li>'Hola'</li>\n",
              "\t<li>42</li>\n",
              "\t<li>TRUE</li>\n",
              "</ol>\n"
            ]
          },
          "metadata": {}
        },
        {
          "output_type": "display_data",
          "data": {
            "text/plain": [
              "NULL"
            ]
          },
          "metadata": {}
        }
      ]
    },
    {
      "cell_type": "code",
      "metadata": {
        "id": "GBuxGL4cTpR0",
        "outputId": "28fcad0b-15ad-4ac4-c0aa-429f3d3b40e2",
        "colab": {
          "base_uri": "https://localhost:8080/",
          "height": 1000
        }
      },
      "source": [
        "# Podemos combinar listas\n",
        "lista2 <- list(\n",
        "  primos = c(2,3,5,7),\n",
        "  amigos = c(220,284)\n",
        ")\n",
        "\n",
        "list_comb <- list(lista1, lista2)\n",
        "list_comb\n",
        "names(list_comb) <- c(\"L1\",\"L2\")\n",
        "list_comb\n",
        "names(list_comb)\n",
        "\n",
        "list_comb$L1$matriz"
      ],
      "execution_count": 15,
      "outputs": [
        {
          "output_type": "display_data",
          "data": {
            "text/plain": [
              "[[1]]\n",
              "[[1]]$num\n",
              "[1] 6\n",
              "\n",
              "[[1]]$letra\n",
              "[1] \"A\"\n",
              "\n",
              "[[1]]$vector\n",
              "[1] 10 20 30\n",
              "\n",
              "[[1]]$matriz\n",
              "     [,1] [,2] [,3] [,4]\n",
              "[1,]    8    0    0    0\n",
              "[2,]    0    8    0    0\n",
              "[3,]    0    0    8    0\n",
              "[4,]    0    0    0    8\n",
              "\n",
              "[[1]]$lista\n",
              "[[1]]$lista$a\n",
              "[1] \"hola\"\n",
              "\n",
              "[[1]]$lista$b\n",
              "[1] 18\n",
              "\n",
              "\n",
              "\n",
              "[[2]]\n",
              "[[2]]$primos\n",
              "[1] 2 3 5 7\n",
              "\n",
              "[[2]]$amigos\n",
              "[1] 220 284\n",
              "\n"
            ],
            "text/latex": "\\begin{enumerate}\n\\item \\begin{description}\n\\item[\\$num] 6\n\\item[\\$letra] 'A'\n\\item[\\$vector] \\begin{enumerate*}\n\\item 10\n\\item 20\n\\item 30\n\\end{enumerate*}\n\n\\item[\\$matriz] A matrix: 4 × 4 of type dbl\n\\begin{tabular}{llll}\n\t 8 & 0 & 0 & 0\\\\\n\t 0 & 8 & 0 & 0\\\\\n\t 0 & 0 & 8 & 0\\\\\n\t 0 & 0 & 0 & 8\\\\\n\\end{tabular}\n\n\\item[\\$lista] \\begin{description}\n\\item[\\$a] 'hola'\n\\item[\\$b] 18\n\\end{description}\n\n\\end{description}\n\n\\item \\begin{description}\n\\item[\\$primos] \\begin{enumerate*}\n\\item 2\n\\item 3\n\\item 5\n\\item 7\n\\end{enumerate*}\n\n\\item[\\$amigos] \\begin{enumerate*}\n\\item 220\n\\item 284\n\\end{enumerate*}\n\n\\end{description}\n\n\\end{enumerate}\n",
            "text/markdown": "1. $num\n:   6\n$letra\n:   'A'\n$vector\n:   1. 10\n2. 20\n3. 30\n\n\n\n$matriz\n:   \nA matrix: 4 × 4 of type dbl\n\n| 8 | 0 | 0 | 0 |\n| 0 | 8 | 0 | 0 |\n| 0 | 0 | 8 | 0 |\n| 0 | 0 | 0 | 8 |\n\n\n$lista\n:   $a\n:   'hola'\n$b\n:   18\n\n\n\n\n\n\n2. $primos\n:   1. 2\n2. 3\n3. 5\n4. 7\n\n\n\n$amigos\n:   1. 220\n2. 284\n\n\n\n\n\n\n\n\n",
            "text/html": [
              "<ol>\n",
              "\t<li><dl>\n",
              "\t<dt>$num</dt>\n",
              "\t\t<dd>6</dd>\n",
              "\t<dt>$letra</dt>\n",
              "\t\t<dd>'A'</dd>\n",
              "\t<dt>$vector</dt>\n",
              "\t\t<dd><style>\n",
              ".list-inline {list-style: none; margin:0; padding: 0}\n",
              ".list-inline>li {display: inline-block}\n",
              ".list-inline>li:not(:last-child)::after {content: \"\\00b7\"; padding: 0 .5ex}\n",
              "</style>\n",
              "<ol class=list-inline><li>10</li><li>20</li><li>30</li></ol>\n",
              "</dd>\n",
              "\t<dt>$matriz</dt>\n",
              "\t\t<dd><table class=\"dataframe\">\n",
              "<caption>A matrix: 4 × 4 of type dbl</caption>\n",
              "<tbody>\n",
              "\t<tr><td>8</td><td>0</td><td>0</td><td>0</td></tr>\n",
              "\t<tr><td>0</td><td>8</td><td>0</td><td>0</td></tr>\n",
              "\t<tr><td>0</td><td>0</td><td>8</td><td>0</td></tr>\n",
              "\t<tr><td>0</td><td>0</td><td>0</td><td>8</td></tr>\n",
              "</tbody>\n",
              "</table>\n",
              "</dd>\n",
              "\t<dt>$lista</dt>\n",
              "\t\t<dd><dl>\n",
              "\t<dt>$a</dt>\n",
              "\t\t<dd>'hola'</dd>\n",
              "\t<dt>$b</dt>\n",
              "\t\t<dd>18</dd>\n",
              "</dl>\n",
              "</dd>\n",
              "</dl>\n",
              "</li>\n",
              "\t<li><dl>\n",
              "\t<dt>$primos</dt>\n",
              "\t\t<dd><style>\n",
              ".list-inline {list-style: none; margin:0; padding: 0}\n",
              ".list-inline>li {display: inline-block}\n",
              ".list-inline>li:not(:last-child)::after {content: \"\\00b7\"; padding: 0 .5ex}\n",
              "</style>\n",
              "<ol class=list-inline><li>2</li><li>3</li><li>5</li><li>7</li></ol>\n",
              "</dd>\n",
              "\t<dt>$amigos</dt>\n",
              "\t\t<dd><style>\n",
              ".list-inline {list-style: none; margin:0; padding: 0}\n",
              ".list-inline>li {display: inline-block}\n",
              ".list-inline>li:not(:last-child)::after {content: \"\\00b7\"; padding: 0 .5ex}\n",
              "</style>\n",
              "<ol class=list-inline><li>220</li><li>284</li></ol>\n",
              "</dd>\n",
              "</dl>\n",
              "</li>\n",
              "</ol>\n"
            ]
          },
          "metadata": {}
        },
        {
          "output_type": "display_data",
          "data": {
            "text/plain": [
              "$L1\n",
              "$L1$num\n",
              "[1] 6\n",
              "\n",
              "$L1$letra\n",
              "[1] \"A\"\n",
              "\n",
              "$L1$vector\n",
              "[1] 10 20 30\n",
              "\n",
              "$L1$matriz\n",
              "     [,1] [,2] [,3] [,4]\n",
              "[1,]    8    0    0    0\n",
              "[2,]    0    8    0    0\n",
              "[3,]    0    0    8    0\n",
              "[4,]    0    0    0    8\n",
              "\n",
              "$L1$lista\n",
              "$L1$lista$a\n",
              "[1] \"hola\"\n",
              "\n",
              "$L1$lista$b\n",
              "[1] 18\n",
              "\n",
              "\n",
              "\n",
              "$L2\n",
              "$L2$primos\n",
              "[1] 2 3 5 7\n",
              "\n",
              "$L2$amigos\n",
              "[1] 220 284\n",
              "\n"
            ],
            "text/latex": "\\begin{description}\n\\item[\\$L1] \\begin{description}\n\\item[\\$num] 6\n\\item[\\$letra] 'A'\n\\item[\\$vector] \\begin{enumerate*}\n\\item 10\n\\item 20\n\\item 30\n\\end{enumerate*}\n\n\\item[\\$matriz] A matrix: 4 × 4 of type dbl\n\\begin{tabular}{llll}\n\t 8 & 0 & 0 & 0\\\\\n\t 0 & 8 & 0 & 0\\\\\n\t 0 & 0 & 8 & 0\\\\\n\t 0 & 0 & 0 & 8\\\\\n\\end{tabular}\n\n\\item[\\$lista] \\begin{description}\n\\item[\\$a] 'hola'\n\\item[\\$b] 18\n\\end{description}\n\n\\end{description}\n\n\\item[\\$L2] \\begin{description}\n\\item[\\$primos] \\begin{enumerate*}\n\\item 2\n\\item 3\n\\item 5\n\\item 7\n\\end{enumerate*}\n\n\\item[\\$amigos] \\begin{enumerate*}\n\\item 220\n\\item 284\n\\end{enumerate*}\n\n\\end{description}\n\n\\end{description}\n",
            "text/markdown": "$L1\n:   $num\n:   6\n$letra\n:   'A'\n$vector\n:   1. 10\n2. 20\n3. 30\n\n\n\n$matriz\n:   \nA matrix: 4 × 4 of type dbl\n\n| 8 | 0 | 0 | 0 |\n| 0 | 8 | 0 | 0 |\n| 0 | 0 | 8 | 0 |\n| 0 | 0 | 0 | 8 |\n\n\n$lista\n:   $a\n:   'hola'\n$b\n:   18\n\n\n\n\n\n\n$L2\n:   $primos\n:   1. 2\n2. 3\n3. 5\n4. 7\n\n\n\n$amigos\n:   1. 220\n2. 284\n\n\n\n\n\n\n\n\n",
            "text/html": [
              "<dl>\n",
              "\t<dt>$L1</dt>\n",
              "\t\t<dd><dl>\n",
              "\t<dt>$num</dt>\n",
              "\t\t<dd>6</dd>\n",
              "\t<dt>$letra</dt>\n",
              "\t\t<dd>'A'</dd>\n",
              "\t<dt>$vector</dt>\n",
              "\t\t<dd><style>\n",
              ".list-inline {list-style: none; margin:0; padding: 0}\n",
              ".list-inline>li {display: inline-block}\n",
              ".list-inline>li:not(:last-child)::after {content: \"\\00b7\"; padding: 0 .5ex}\n",
              "</style>\n",
              "<ol class=list-inline><li>10</li><li>20</li><li>30</li></ol>\n",
              "</dd>\n",
              "\t<dt>$matriz</dt>\n",
              "\t\t<dd><table class=\"dataframe\">\n",
              "<caption>A matrix: 4 × 4 of type dbl</caption>\n",
              "<tbody>\n",
              "\t<tr><td>8</td><td>0</td><td>0</td><td>0</td></tr>\n",
              "\t<tr><td>0</td><td>8</td><td>0</td><td>0</td></tr>\n",
              "\t<tr><td>0</td><td>0</td><td>8</td><td>0</td></tr>\n",
              "\t<tr><td>0</td><td>0</td><td>0</td><td>8</td></tr>\n",
              "</tbody>\n",
              "</table>\n",
              "</dd>\n",
              "\t<dt>$lista</dt>\n",
              "\t\t<dd><dl>\n",
              "\t<dt>$a</dt>\n",
              "\t\t<dd>'hola'</dd>\n",
              "\t<dt>$b</dt>\n",
              "\t\t<dd>18</dd>\n",
              "</dl>\n",
              "</dd>\n",
              "</dl>\n",
              "</dd>\n",
              "\t<dt>$L2</dt>\n",
              "\t\t<dd><dl>\n",
              "\t<dt>$primos</dt>\n",
              "\t\t<dd><style>\n",
              ".list-inline {list-style: none; margin:0; padding: 0}\n",
              ".list-inline>li {display: inline-block}\n",
              ".list-inline>li:not(:last-child)::after {content: \"\\00b7\"; padding: 0 .5ex}\n",
              "</style>\n",
              "<ol class=list-inline><li>2</li><li>3</li><li>5</li><li>7</li></ol>\n",
              "</dd>\n",
              "\t<dt>$amigos</dt>\n",
              "\t\t<dd><style>\n",
              ".list-inline {list-style: none; margin:0; padding: 0}\n",
              ".list-inline>li {display: inline-block}\n",
              ".list-inline>li:not(:last-child)::after {content: \"\\00b7\"; padding: 0 .5ex}\n",
              "</style>\n",
              "<ol class=list-inline><li>220</li><li>284</li></ol>\n",
              "</dd>\n",
              "</dl>\n",
              "</dd>\n",
              "</dl>\n"
            ]
          },
          "metadata": {}
        },
        {
          "output_type": "display_data",
          "data": {
            "text/plain": [
              "[1] \"L1\" \"L2\""
            ],
            "text/latex": "\\begin{enumerate*}\n\\item 'L1'\n\\item 'L2'\n\\end{enumerate*}\n",
            "text/markdown": "1. 'L1'\n2. 'L2'\n\n\n",
            "text/html": [
              "<style>\n",
              ".list-inline {list-style: none; margin:0; padding: 0}\n",
              ".list-inline>li {display: inline-block}\n",
              ".list-inline>li:not(:last-child)::after {content: \"\\00b7\"; padding: 0 .5ex}\n",
              "</style>\n",
              "<ol class=list-inline><li>'L1'</li><li>'L2'</li></ol>\n"
            ]
          },
          "metadata": {}
        },
        {
          "output_type": "display_data",
          "data": {
            "text/plain": [
              "     [,1] [,2] [,3] [,4]\n",
              "[1,] 8    0    0    0   \n",
              "[2,] 0    8    0    0   \n",
              "[3,] 0    0    8    0   \n",
              "[4,] 0    0    0    8   "
            ],
            "text/latex": "A matrix: 4 × 4 of type dbl\n\\begin{tabular}{llll}\n\t 8 & 0 & 0 & 0\\\\\n\t 0 & 8 & 0 & 0\\\\\n\t 0 & 0 & 8 & 0\\\\\n\t 0 & 0 & 0 & 8\\\\\n\\end{tabular}\n",
            "text/markdown": "\nA matrix: 4 × 4 of type dbl\n\n| 8 | 0 | 0 | 0 |\n| 0 | 8 | 0 | 0 |\n| 0 | 0 | 8 | 0 |\n| 0 | 0 | 0 | 8 |\n\n",
            "text/html": [
              "<table class=\"dataframe\">\n",
              "<caption>A matrix: 4 × 4 of type dbl</caption>\n",
              "<tbody>\n",
              "\t<tr><td>8</td><td>0</td><td>0</td><td>0</td></tr>\n",
              "\t<tr><td>0</td><td>8</td><td>0</td><td>0</td></tr>\n",
              "\t<tr><td>0</td><td>0</td><td>8</td><td>0</td></tr>\n",
              "\t<tr><td>0</td><td>0</td><td>0</td><td>8</td></tr>\n",
              "</tbody>\n",
              "</table>\n"
            ]
          },
          "metadata": {}
        }
      ]
    },
    {
      "cell_type": "markdown",
      "metadata": {
        "id": "tas7VspWb85k"
      },
      "source": [
        "### **Acceso a los elementos de una lista**\n",
        "\n",
        "Al igual que un vector, una lista es un arreglo unidimensional, por lo que es esperable que herede la misma forma de acceso.\n",
        "\n",
        "#### **Acceso mediante posición**\n",
        "\n",
        "En R, para acceder al \"slot\" de una lista, podemos utilizar `[]` indicando la posición a la que queremos acceder. Notar que en R distingue el uso de `[]` y `[[]]`. Para ilustrar este comportamiento, consideremosla lista \"lista3\", donde se observa que `lista3[2]` retorna una lista, mientras que `lista3[[2]]` retorna el character \"A\"\n",
        "\n",
        "\n",
        "\n",
        "\n",
        "\n",
        "\n"
      ]
    },
    {
      "cell_type": "code",
      "metadata": {
        "id": "pW_YsDgzzrNY"
      },
      "source": [
        "str(lista3)"
      ],
      "execution_count": null,
      "outputs": []
    },
    {
      "cell_type": "code",
      "metadata": {
        "id": "uUv7BQfnTpR3"
      },
      "source": [
        "# Acceso mediante posición. NOTA: Diferenciar entre eacceso con [] y con [[]]\n"
      ],
      "execution_count": null,
      "outputs": []
    },
    {
      "cell_type": "code",
      "metadata": {
        "id": "VbjSMdZJeCIp"
      },
      "source": [
        "# Podemos combinar lo que hemos aprendido, por ejemplo, en el 4to slot hay una matriz y queremos obtener la 3ra fila #:= 0 0 8 0\n"
      ],
      "execution_count": null,
      "outputs": []
    },
    {
      "cell_type": "markdown",
      "metadata": {
        "id": "aOsI7ZZDeYHP"
      },
      "source": [
        "#### **Acceso mediante nombre**\n",
        "\n",
        "Cuando una lista posee nombres, podemos acceder a sus elementos referenciando su nombre, distinguiendo, al igual que por posición, el uso de `[]` y `[[]]`\n"
      ]
    },
    {
      "cell_type": "code",
      "metadata": {
        "id": "nztoSVwy1ASF"
      },
      "source": [
        "# Acceso mediante nombre. NOTA: Diferenciar entre eacceso con [] y con [[]]"
      ],
      "execution_count": null,
      "outputs": []
    },
    {
      "cell_type": "markdown",
      "metadata": {
        "id": "smOXxvCmg7vv"
      },
      "source": [
        "#### **Acceso mediante \"$\"**\n",
        "\n",
        "Finalmente, una de las opciones más simples para acceder a los elementos de una lista cuando sus entradas poseen nombre, es referenciando estos objetos anteponiendo el signo \"$\".Por ejemplo, para acceder al 4to slot, con la matriz, podemos escribir `lista3$matriz`, lo cual nos retorna directamente la matriz (no una lista con la matriz)."
      ]
    },
    {
      "cell_type": "code",
      "metadata": {
        "id": "nWG3D5US1oFW"
      },
      "source": [
        "# Ejemplo con lista\n"
      ],
      "execution_count": null,
      "outputs": []
    },
    {
      "cell_type": "markdown",
      "metadata": {
        "id": "yMWAiONTiSTq"
      },
      "source": [
        "### **Creación de nuevo slots**\n",
        "\n",
        "Podemos crear nuevos slots de manera sencilla, indicano el nuevo nombre (utilizando `[]` o `$`) y luego asignando el objeto a almacenar en la nueva entrada."
      ]
    },
    {
      "cell_type": "code",
      "metadata": {
        "id": "gQ2thfZJiRu_"
      },
      "source": [
        "# Creamos un slot llamado \"nuevo\" utilizadno [[]]\n"
      ],
      "execution_count": null,
      "outputs": []
    },
    {
      "cell_type": "code",
      "metadata": {
        "id": "VFLfJtXCjIga"
      },
      "source": [
        "# Creamos un slot llamdo \"otro\" utilizando $"
      ],
      "execution_count": null,
      "outputs": []
    },
    {
      "cell_type": "markdown",
      "metadata": {
        "id": "128wI4ZoTpSS"
      },
      "source": [
        "## **2.2 Dataframes**\n",
        "\n",
        "Un dataframe es un caso particular de una lista, donde los objetos de cada entrada corresponden a vectores de datos del mismo largo. En este caso cada vector corresponde a una columna del data.frame, mientras que la cantidad de filas corresponde al largo común de los vectores de cada entrada. El objeto resultante es una *tabla*, de ahora en adelante *data.frame*, cuyas columnas poseen distintos tipos de datos entre sí. \n",
        "\n",
        " * ¿Cómo se declara un dataframe?<br>\n",
        "    Mediante la función **data.frame()**, indicando los vectores que conformarán las columnas.\n",
        " \n",
        " * ¿Cómo se accede a los datos de un data.frame?<br>\n",
        "    Al ser una lista, se puede acceder de la misma manera. Sin embargo también es posible acceder del modo en que se accede a los elementos de una matriz."
      ]
    },
    {
      "cell_type": "code",
      "metadata": {
        "id": "qJ-2zVWVTpST"
      },
      "source": [
        "# 5.2 Dataframes ----------\n",
        "# Ejemplo sencillo de definición de un data.frame\n",
        "# recordar que 1:3 es lo mismo que c(1,2,3)\n",
        "\n",
        "df <- data.frame(\n",
        "  id = 1:3,\n",
        "  nombre = c(\"pedro\",\"juan\",\"diego\"),\n",
        "  edad = c(32,33,28)\n",
        ")\n",
        "\n",
        "df\n"
      ],
      "execution_count": null,
      "outputs": []
    },
    {
      "cell_type": "code",
      "metadata": {
        "id": "nv7stC8ITpSY"
      },
      "source": [
        "# Acceso a columnas de un data.frame\n",
        "## Igual que en una lista\n",
        "df$nombre\n",
        "df[[\"nombre\"]] #retorna el vector con los nombres, mientras que df[\"nombres\"] retorna un data.frame con los nombres\n",
        "df[[2]] # ID"
      ],
      "execution_count": null,
      "outputs": []
    },
    {
      "cell_type": "code",
      "metadata": {
        "id": "3t6_J3BHTpSb"
      },
      "source": [
        "df[\"nombre\"] # Nos entrega un data.frame"
      ],
      "execution_count": null,
      "outputs": []
    },
    {
      "cell_type": "code",
      "metadata": {
        "id": "CojdmEs9TpSd"
      },
      "source": [
        "##  Ganamos acceso como matriz\n",
        "# segunda fila de df\n",
        "df[2,]\n",
        "\n",
        "# segunda columna y segunda fila\n",
        "df[2,2]\n",
        "\n",
        "# Por nombre de columna\n",
        "df[2,]$nombre"
      ],
      "execution_count": null,
      "outputs": []
    },
    {
      "cell_type": "code",
      "metadata": {
        "id": "FgD5Q8hFTpSf"
      },
      "source": [
        "#Podemos crear nuevas columnas , del mismmo modo que creamos \"slots\" en una lista\n"
      ],
      "execution_count": null,
      "outputs": []
    },
    {
      "cell_type": "code",
      "metadata": {
        "id": "LcNQ5JHVTpSh"
      },
      "source": [
        "# podemos seleccionar más de una columna a la vez. Ej: seleccionar columnas 1 y 3\n",
        "# Referenciando el nombre de las columnas\n"
      ],
      "execution_count": null,
      "outputs": []
    },
    {
      "cell_type": "code",
      "metadata": {
        "id": "NHtO3MHwTpSj"
      },
      "source": [
        "# Referenciando las posiciones de las columnas\n"
      ],
      "execution_count": null,
      "outputs": []
    },
    {
      "cell_type": "markdown",
      "metadata": {
        "id": "3OKSX6BRmK9g"
      },
      "source": [
        "\n",
        "\n",
        "---\n",
        "# **Taller 2**\n",
        "La siguiente línea de código permite cargar en memoria, un objeto de extensión *.rds que está almacenado en el disco de la máquina en la ruta actual de trabajo.\n",
        "\n",
        "Este archivo contiene la información de los contagios por COVID-19 en nuestsro país, según las cifras oficiales entregadas por el ministerio de salud actualizadas al 08 de mayo. En el archivo encontrará, **para cada mes, el total de casos diarios** desglosados según:\n",
        "   * 'casos_nuevos_con_sintomas': casos nuevos con síntomas del día.\n",
        "   * 'casos_totales' : casos acumulados a la fecha.\n",
        "   * 'casos_recuperados': casos recuperados acumulados a la fecha.\n",
        "   * 'fallecidos': casos fallecidos acumulados.\n",
        "   * 'casos_activos': casos activos a la fecha.\n",
        "   * 'casos_nuevos_sin_sintomas': casos asintomáticos del día.\n",
        "   * 'casos_nuevos_totales': suma de  casos asintomáticos más casos con síntomas del día.\n",
        " \n",
        " Si bien no será utilizados en este trabajo, también econtrán nuevos registros de acuerdo a los últimos cambios en la metodología de conteo. Para más info pueden referirse al siguiente link:\n",
        " https://github.com/MinCiencia/Datos-COVID19/tree/master/output/producto5\n",
        " \n",
        "   * 'casos_activos_por_fd'\n",
        "   * 'casos_activos_por_fis'\n",
        "   * 'casos_recuperados_por_fis'\n",
        "   * 'casos_recuperados_por_fd' \n",
        "   * 'casos_confirmados_recuperados'\n",
        "   * 'casos_activos_confirmados'\n",
        "   * 'casos_probables_acumulados'\n",
        "   * 'casos_activos_probables'\n",
        "\n",
        "\n"
      ]
    },
    {
      "cell_type": "markdown",
      "metadata": {
        "id": "1Zqazqfcnxdk"
      },
      "source": [
        "## Pregunta 1.1\n",
        "\n",
        "**1a)** ¿Qué clase de objetos es `casos`? <br>\n",
        "**1b)** ¿Cuántos elementos posee este objeto?<br>\n",
        "**1c)** ¿Cuáles son los nombres de este objeto?<br>\n",
        "**1d)** ¿Qué clase de objeto está almacenado en sl _slot_ correspondiente al mes de junio (\"jun\") y cuántos elementos posee?<br>\n",
        "**1e)** Para el mes de junio, ¿a qué clase de objeto corresponde `casos_totales` y cuántos elementos posee?\n",
        "\n",
        "\n"
      ]
    },
    {
      "cell_type": "code",
      "metadata": {
        "id": "mKw24Fn0nwAt"
      },
      "source": [
        "# P1.1a\n",
        "## Respuesta \n"
      ],
      "execution_count": null,
      "outputs": []
    },
    {
      "cell_type": "code",
      "metadata": {
        "id": "liqqwk4m7zP6"
      },
      "source": [
        "# P1.1b\n",
        "## Respuesta \n"
      ],
      "execution_count": null,
      "outputs": []
    },
    {
      "cell_type": "code",
      "metadata": {
        "id": "R8K7J-lA8Bzl"
      },
      "source": [
        "# P1.1c\n",
        "## Respuesta \n"
      ],
      "execution_count": null,
      "outputs": []
    },
    {
      "cell_type": "code",
      "metadata": {
        "id": "DVzzxRyC8LuC"
      },
      "source": [
        "# P1.1c\n",
        "## Respuesta \n"
      ],
      "execution_count": null,
      "outputs": []
    },
    {
      "cell_type": "code",
      "metadata": {
        "id": "cAD-c4Lz8oL7"
      },
      "source": [
        "\n",
        "# Podemos asumir que dentro de la lista de cada mes existen 15 dataframes asocia\n",
        "# dos a alguna información específica"
      ],
      "execution_count": null,
      "outputs": []
    },
    {
      "cell_type": "code",
      "metadata": {
        "id": "_P1MWGi087SM"
      },
      "source": [
        "# Para el mes de junio, ¿a qué clase de objeto corresponde casos_totales y cuántos elementos posee?\n"
      ],
      "execution_count": null,
      "outputs": []
    },
    {
      "cell_type": "markdown",
      "metadata": {
        "id": "AT8x21Yto0SD"
      },
      "source": [
        "## Pregunta 1.2\n",
        "\n",
        "**2a)** ¿Cuántos casos activos existían al 25 de marzo? (indique claramente la expresión de R para obtener el valor solicitado) .<br>\n",
        "**2b)** Genere cinco nuevas variables llamadas `totales_marzo`,`totales_abril` , `totales_mayo`, `totales_junio` y `totales_julio`, que contengan los dataframes correspondientes al slot `casos_totales` del mes respectivo, (por ejemplo, la variable `totales_julio` debe contener una dataframe de dimensión $8\\times2$.<br>\n",
        "**2c)** Para cada dataframe del paso anterior, genere una nueva columna llamada `mes`, que repita el nombre del mes correspondiente por cada fila.<br>\n",
        "**2d)** En cada data.frame, agregue una nueva columna llamada `casos_diarios` que contanga la información correspontiende al total de casos nuevos diarios(`casos_nuevos_totales`).\n"
      ]
    },
    {
      "cell_type": "code",
      "metadata": {
        "id": "jQxyM_qeo0ZS"
      },
      "source": [
        "## Respuesta "
      ],
      "execution_count": null,
      "outputs": []
    },
    {
      "cell_type": "markdown",
      "metadata": {
        "id": "mO_ORER5o0gU"
      },
      "source": [
        "## Pregunta 1.3\n",
        "\n",
        "**3a)** Con la ayuda de lafunción rbind() , una las filas de las 5 tablas generadas en la pregunta anterior y guarde la tabla resultante en una variable llamada `casos_hist`.<br>\n",
        "**3b)** En promedio, ¿Cuántos casos hay diariamente desde el 03 de marzo hasta el 08 de julio?<br>\n",
        "**3c)** En promedio, ¿Cuántos casos hay diariamente **en cada mes** ?.<br>\n"
      ]
    },
    {
      "cell_type": "code",
      "metadata": {
        "id": "uXSX0rCBo0mQ"
      },
      "source": [
        "# P1.3\n",
        "## Respuesta\n"
      ],
      "execution_count": null,
      "outputs": []
    },
    {
      "cell_type": "markdown",
      "metadata": {
        "id": "tgYsAD75o0rb"
      },
      "source": [
        "# Sección 2\n",
        "\n",
        "La siguiente celda de código permitirá cargar en su sesión de trabajo los siguientes vectores:\n",
        "* `temp_hombre`: Contiene el registro de la temperatura para una muestra de 650 hombres escogidos al azar.\n",
        "* `temp_mujer`: Contiene el registro de la temperatura para una muestra de 580 mujeres escogidas al azar.\n",
        "\n",
        "\n",
        "En ambos vectores, **los identificadores (id) de cada persona están contenidos en el atributo `names()`** del vector respectivo."
      ]
    },
    {
      "cell_type": "code",
      "metadata": {
        "id": "89DwdTUEo0xl"
      },
      "source": [
        "temp_h <- readRDS(\"temp_h.rds\")\n",
        "temp_m <- readRDS(\"temp_m.rds\")"
      ],
      "execution_count": null,
      "outputs": []
    },
    {
      "cell_type": "markdown",
      "metadata": {
        "id": "GBjrXxozo021"
      },
      "source": [
        "##  Pregunta 2.1\n",
        "\n",
        "**P1)** A partir de los dos vectores cargados `temp_h` y `temp_m` ustred deberá crear un data.frame llamado **`casos`** con tres columnas y un total de 1230 filas. Las columnas deben ser las siguientes; una con el id del registro, otra con el género y otra con la temperatura registrada. A modo de ejemplo, a continuación se muestra como debería quedar el data.frame:\n",
        "\n",
        "\n",
        "|id | genero | temperatura|\n",
        "|---|---|---|\n",
        "| h_162 | hombre | 36.8 |\n",
        "| h_140 | hombre | 38.7 |\n",
        "| h_13  | hombre | 36.1 |\n",
        "| $\\vdots$| $\\vdots$ | $\\vdots$|\n",
        "| m_16  | mujer | 39.1 |\n",
        "| m_502 | mujer | 40.1 |\n",
        "| m_189 | mujer | 36.8 |"
      ]
    },
    {
      "cell_type": "code",
      "metadata": {
        "id": "YJYZPGYppODi"
      },
      "source": [
        "# P2.1. ---------------------------------------------------------------------\n",
        "## Respuesta:\n"
      ],
      "execution_count": null,
      "outputs": []
    },
    {
      "cell_type": "markdown",
      "metadata": {
        "id": "lfWQ0GitpaKO"
      },
      "source": [
        "## Pregunta 2.2\n",
        "\n",
        "Adicionalmente, se cuenta con la información de síntomas presentados por cada presona registrada. Esta información se encuentra disponible en el archivo `sintomas.rds`.\n",
        "\n",
        "**2a)** Cargue el archivo `sintomas.rds` en una variable llamada _sintomas_.<br>\n",
        "**2b)** ¿Cuál es la clase de este objeto?.<br>\n",
        "**2c)** Note que cada fila undica con un 1 si la persona presentó el respectivo síntoma y 0 si no. ¿Qué sintomas presentó la persona ubicada en el registro 450?.<br>\n",
        "**2d)** ¿Qué síntomas y qué temperatura presentó la persona con id \"h_537\"?. Si es le es de utilidad puede utilizar la función `rownames()`, la cual permite obtener los nombres (id) de las filas de una matriz.<br>"
      ]
    },
    {
      "cell_type": "code",
      "metadata": {
        "id": "0HLg2sk6o088"
      },
      "source": [
        "# P2 .2\n",
        "## Respuestas:"
      ],
      "execution_count": null,
      "outputs": []
    },
    {
      "cell_type": "markdown",
      "metadata": {
        "id": "HjdVpbOOo1CM"
      },
      "source": [
        "## Nota de utilidad\n",
        "\n",
        "Ya sea trabajando con un vector, matriz, data.frame o lista, es posible omitir la selección de alguna(s) de sus posiciones (filas/columnas o slots). Esto se puede llevar a cabo de diversas maneras, por ejemplo:"
      ]
    },
    {
      "cell_type": "code",
      "metadata": {
        "id": "EaE41VqBo1H0"
      },
      "source": [
        "# Primero creamos un vector, una matriz, un data.frame  y una lista \n",
        "\n",
        "vec <- c(v1 = 1, v2 = 2, v3 = 3,v4 = 4)\n",
        "mat <- cbind(c(1,1),c(2,2),c(3,3),c(4,4) ) ; rownames(mat) <- c(\"f1\",\"f2\"); colnames(mat) <- c(\"c1\",\"c2\",\"c3\",\"c4\")\n",
        "dat <- as.data.frame(mat)\n",
        "lis <- list(s1 = c(1,1), s2 = c(2,2), s3 = c(3,3) , s4 = c(4,4))"
      ],
      "execution_count": null,
      "outputs": []
    },
    {
      "cell_type": "markdown",
      "metadata": {
        "id": "UV_GgaCAo1NG"
      },
      "source": [
        "### Omisión por posición"
      ]
    },
    {
      "cell_type": "code",
      "metadata": {
        "id": "jvck_ewdo1S3"
      },
      "source": [
        "#Si queremos omitir el primer y tercer elmento del vector y la lista\n",
        "vec[-c(1,3)]\n",
        "lis[-c(1,3)]\n",
        "\n",
        "# Misma idea si queremos omitir columnas de una matriz (o data.frame)\n",
        "mat[,-c(1,3)]\n",
        "dat[,-c(1,3)]"
      ],
      "execution_count": null,
      "outputs": []
    },
    {
      "cell_type": "markdown",
      "metadata": {
        "id": "92C6VPBPo1Yd"
      },
      "source": [
        "### Omisión por nombres"
      ]
    },
    {
      "cell_type": "code",
      "metadata": {
        "id": "hh6zosZZo1d-"
      },
      "source": [
        "# Por ahora tendremos que ubicar las posiciones de los nombres deseados.\n",
        "\n",
        "pos_vec <- which(names(vec) %in% c(\"v1\",\"v3\"))\n",
        "pos_lis <- which(names(lis) %in% c(\"s1\",\"s3\"))\n",
        "pos_mat <- which(colnames(mat) %in% c(\"c1\",\"c3\"))\n",
        "pos_dat <- which(names(dat) %in% c(\"c1\",\"c3\"))\n",
        "\n",
        "vec[-pos_vec]\n",
        "lis[-pos_lis]\n",
        "\n",
        "# Misma idea si queremos omitir columnas de una matriz (o data.frame)\n",
        "mat[,-pos_mat]\n",
        "dat[,-pos_dat]"
      ],
      "execution_count": null,
      "outputs": []
    },
    {
      "cell_type": "markdown",
      "metadata": {
        "id": "V82HXEPao1il"
      },
      "source": [
        "Más adelante veremos otras alternivas, como por ejemplo, utilizando funciones del package `dplyr`.\n",
        "\n",
        "## Pregunta 2.3\n",
        "\n",
        "Con la ayuda de las funciones `rowSums()` y `colSums()`, identifique lo siguiente.\n",
        "\n",
        "  **3a)** ¿Cuántos registros presentaron exactamente los 4 síntomas?<br>\n",
        "  **3b)** ¿Cúantas personas presentaron tos? <br>\n",
        "  **3c)** ¿Cuál es el síntoma más frecuente?<br>\n",
        "  "
      ]
    },
    {
      "cell_type": "code",
      "metadata": {
        "id": "VcdCp88oo1ob"
      },
      "source": [
        "# P3\n",
        "##Respuestas:\n"
      ],
      "execution_count": null,
      "outputs": []
    },
    {
      "cell_type": "markdown",
      "metadata": {
        "id": "xQpbdDq7o1tD"
      },
      "source": [
        "## Pregunta 2.4\n",
        "\n",
        "**4a)** La función `as.data.frame()` permite coercionar un objeto de otra clase a `data.frame`.\n",
        "cree una variable llamada `sintomas_df` con la información  de sintomas pero como data.frame.<br>\n",
        "**4b)**\n",
        "Se puede observar que los ids solo están disponibles en los nombres de las filas. Sin embargo esútil tener esta información como una columna más de la tabla. Para ello **cree una nueva columna en la tabla sintomas_df** llamada `id` que contenga los ids de cada registro. \n",
        "\n",
        "NOTA: El orden de las filas no ha variado por lo que podemos añadir la columna sin mayores precauciones.<br>\n",
        "**4c)** ¿Cuántas personas **sólo** presentaron tos y dolor de cabeza?<br>\n",
        "**4d)** Se sabe que una persona tiene fiebre cuando su temperatura es mayor o igual a los 37.2°. **Cree una nueva columna en la tabla sintomas_df** llamada `tiene_fiebre` que contenga `TRUE` cuando tiene fiebre y `FALSE` en caso contrario. \n",
        "\n"
      ]
    },
    {
      "cell_type": "code",
      "metadata": {
        "id": "UUtlInMso1yP"
      },
      "source": [
        "# P4\n",
        "#Respuestas:\n"
      ],
      "execution_count": null,
      "outputs": []
    }
  ]
}