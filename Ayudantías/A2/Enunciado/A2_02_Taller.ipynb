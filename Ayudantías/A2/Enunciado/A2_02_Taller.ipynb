{
  "nbformat": 4,
  "nbformat_minor": 0,
  "metadata": {
    "colab": {
      "name": "A2_02_Taller.ipynb",
      "provenance": [],
      "collapsed_sections": [],
      "include_colab_link": true
    },
    "kernelspec": {
      "name": "ir",
      "display_name": "R"
    }
  },
  "cells": [
    {
      "cell_type": "markdown",
      "metadata": {
        "id": "view-in-github",
        "colab_type": "text"
      },
      "source": [
        "<a href=\"https://colab.research.google.com/github/rumorale/Capstone/blob/master/Ayudant%C3%ADas/A2/Enunciado/A2_02_Taller.ipynb\" target=\"_parent\"><img src=\"https://colab.research.google.com/assets/colab-badge.svg\" alt=\"Open In Colab\"/></a>"
      ]
    },
    {
      "cell_type": "markdown",
      "metadata": {
        "collapsed": true,
        "id": "rrwCm0qBEQpC"
      },
      "source": [
        "# Ejercicios\n",
        "\n",
        "\n",
        "**Autor:** Miguel Jorquera Viguera<br>\n",
        "**E-mail:** majorquev@gmail.com<br>\n",
        "**Ayudante:** Rodrigo Morales Méndez<br>\n",
        "**E-mail ayudante:** rumorale1@gmail.com\n",
        "\n"
      ]
    },
    {
      "cell_type": "markdown",
      "metadata": {
        "id": "NTW27vzJEQpC"
      },
      "source": [
        "## Sección 1\n",
        "En esta sección seguiremos explorando los vuelos desde los aeropuertos de NY durante el 2013. En esta ocasión cargaremos los datasets desde el package _nycflights13_.\n",
        "\n",
        "Para mayor informacíón sobre los datasets disponibles en este package  refiérase al iguiente link \n",
        "**https://cran.r-project.org/web/packages/nycflights13/nycflights13.pdf**\n",
        "\n"
      ]
    },
    {
      "cell_type": "code",
      "metadata": {
        "trusted": true,
        "id": "qU7e_74GEQpD"
      },
      "source": [
        "#install.packages(\"nycflights13\")\n",
        "\n",
        "data(\"flights\", package = \"nycflights13\") # vuelos\n",
        "data(\"weather\", package = \"nycflights13\") # clima\n",
        "\n",
        "vuelos <- flights\n",
        "clima <- weather\n",
        "\n",
        "help(flights)"
      ],
      "execution_count": null,
      "outputs": []
    },
    {
      "cell_type": "markdown",
      "metadata": {
        "id": "PMhnnKS0EQpJ"
      },
      "source": [
        "## P1. Resumen retrasos \n",
        "Genere un resumen de la variable dep_delay del dataset _flights_."
      ]
    },
    {
      "cell_type": "code",
      "metadata": {
        "id": "99mfLnN9b32i"
      },
      "source": [
        ""
      ],
      "execution_count": null,
      "outputs": []
    },
    {
      "cell_type": "markdown",
      "metadata": {
        "id": "Cw5XyBd4EQpK"
      },
      "source": [
        "## P2. Retrasos por aeropuerto\n",
        "¿Cuál es el tiempo promedio de retraso de  llegada por cada aeropuerto de origen?"
      ]
    },
    {
      "cell_type": "code",
      "metadata": {
        "id": "IkZd4O_mau-K"
      },
      "source": [
        ""
      ],
      "execution_count": null,
      "outputs": []
    },
    {
      "cell_type": "markdown",
      "metadata": {
        "id": "L4W_FmyvEQpK"
      },
      "source": [
        "## P3. Ubicación de  NA's \n",
        "\n",
        "Elimine los registros donde *dep_delay* es NA  y también elimine los registros donde *arr_delay* es NA."
      ]
    },
    {
      "cell_type": "code",
      "metadata": {
        "id": "NAxBjRKpb4vW"
      },
      "source": [
        ""
      ],
      "execution_count": null,
      "outputs": []
    },
    {
      "cell_type": "markdown",
      "metadata": {
        "id": "dobDhtgnEQpL"
      },
      "source": [
        "## P4. Vuelos con retrasos \n",
        "**a)** Genere un nuevo dataset llamado **vuelos_ret** que contenga todos los registros que tuvieron un  **retraso de salida**. Tenga en cuenta que ya debió tratar los NA's de la pregunta anterior y por ende están considerados en esta etapa.\n",
        "\n",
        "**b)** Considerando el dataset anterior, ¿cuál es el retraso promedio de salida por aeropuerto de origen?"
      ]
    },
    {
      "cell_type": "code",
      "metadata": {
        "id": "YtqGxCkOb5Yg"
      },
      "source": [
        ""
      ],
      "execution_count": null,
      "outputs": []
    },
    {
      "cell_type": "markdown",
      "metadata": {
        "id": "Nys7CI6sEQpL"
      },
      "source": [
        "## P5. Retrasos por dia \n",
        "Genere un campo fecha en formato Date (puede utilizar la función as.Date()) que contenga la fecha del vuelo en formato \"yyyy-mm-dd\".\n",
        "\n",
        "**a)** Una vez generado este nuevo campo, genere un gráfico que permita visualizar el retraso **promedio** de salida (*dep_delay*), por cada día. Por ejemplo, un gráfico de líneas.\n",
        "\n",
        "**b)** Considerando el gráfico anterior, añada una curva de tendencia y determine (visualmente) si exsten meses con un alza notoria en relación a los retrasos de los vuelos.\n"
      ]
    },
    {
      "cell_type": "code",
      "metadata": {
        "id": "8jHAjL6wb5ze"
      },
      "source": [
        ""
      ],
      "execution_count": null,
      "outputs": []
    },
    {
      "cell_type": "markdown",
      "metadata": {
        "id": "S-FCO_AWEQpL"
      },
      "source": [
        "## P6. Cruce con clima \n",
        "Se tiene la hipótesis de que el clima puede ser un factor importante en los retrasos, para ello cargue el dataset llamado \"weather\" del package \"nycflights13\"\n",
        "\n",
        "**a)** Genere un dataset llamado *vuelos_ret_ampliado* que incluya tanto la información de los vuelos como del clima. (el match debe hacerse por \"year\",\"month\",\"day\",\"origin\",\"time_hour\")."
      ]
    },
    {
      "cell_type": "code",
      "metadata": {
        "id": "ajtpzT8Zb6Pf"
      },
      "source": [
        ""
      ],
      "execution_count": null,
      "outputs": []
    },
    {
      "cell_type": "markdown",
      "metadata": {
        "id": "G0NCla5lEQpM"
      },
      "source": [
        "## P7. Retrasos 15 min\n",
        "\n",
        "Cree una columna de **tipo int** llamada *arr_delay_alto*, que tome el valor 1 si el retraso de llegada es mayor o igual a 15 min y 0 en caso contrario. De ahora en adelante diremos que esta columna indica si existió un _retraso alto_ o no."
      ]
    },
    {
      "cell_type": "code",
      "metadata": {
        "id": "rSYEtcxNb6p1"
      },
      "source": [
        ""
      ],
      "execution_count": null,
      "outputs": []
    },
    {
      "cell_type": "markdown",
      "metadata": {
        "id": "NQHuYgo3EQpM"
      },
      "source": [
        "## P8. Clima según retraso alto (4P)\n",
        "    \n",
        "**a)** ¿Cuál es la visibilidad (visib) promedio por tipo de retraso (alto y no alto)?\n",
        "\n",
        "**b)** ¿Cuál es el valor de la precipitacion (precip) media por tipo de retraso (alto y no alto)?\n",
        "\n",
        "**c)** ¿Cuál es el valor promedio de wind_gust (vientos fuertes)  por tipo de retraso?\n",
        "\n",
        "**d)** ¿Qué se observa a partir del resumen anterior?"
      ]
    },
    {
      "cell_type": "code",
      "metadata": {
        "id": "ptXvywPZb7ND"
      },
      "source": [
        ""
      ],
      "execution_count": null,
      "outputs": []
    },
    {
      "cell_type": "markdown",
      "metadata": {
        "id": "_Wynt6eDEQpN"
      },
      "source": [
        " ## P9. Tasa de retrasos (2P)\n",
        "**a)** ¿Cuál es el aeropuerto de destino con mayor tasa de retrasos altos (arr_delay_alto) ? \n",
        "\n",
        "**b)** ¿Cuál es el mes con mayor tasa de retrasos altos?"
      ]
    },
    {
      "cell_type": "code",
      "metadata": {
        "id": "TEiGmpmTb7vJ"
      },
      "source": [
        ""
      ],
      "execution_count": null,
      "outputs": []
    }
  ]
}